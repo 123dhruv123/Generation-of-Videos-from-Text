{
 "cells": [
  {
   "cell_type": "code",
   "execution_count": null,
   "metadata": {
    "collapsed": true
   },
   "outputs": [],
   "source": [
    "from PyQt5 import QtCore, QtGui, QtWidgets\n",
    "\n",
    "class Ui_Form(object):\n",
    "    def setupUi(self, Form):\n",
    "        Form.setObjectName(\"Form\")\n",
    "        Form.resize(608, 478)\n",
    "        self.label = QtWidgets.QLabel(Form)\n",
    "        self.label.setGeometry(QtCore.QRect(50, 60, 131, 51))\n",
    "        font = QtGui.QFont()\n",
    "        font.setPointSize(12)\n",
    "        font.setBold(True)\n",
    "        font.setWeight(75)\n",
    "        self.label.setFont(font)\n",
    "        self.label.setObjectName(\"label\")\n",
    "        self.lineEdit = QtWidgets.QLineEdit(Form)\n",
    "        self.lineEdit.setGeometry(QtCore.QRect(190, 40, 351, 261))\n",
    "        self.lineEdit.setObjectName(\"lineEdit\")\n",
    "        self.pushButton = QtWidgets.QPushButton(Form)\n",
    "        self.pushButton.setGeometry(QtCore.QRect(40, 360, 151, 61))\n",
    "        font = QtGui.QFont()\n",
    "        font.setPointSize(12)\n",
    "        font.setBold(True)\n",
    "        font.setWeight(75)\n",
    "        self.pushButton.setFont(font)\n",
    "        self.pushButton.setObjectName(\"pushButton\")\n",
    "        self.pushButton_2 = QtWidgets.QPushButton(Form)\n",
    "        self.pushButton_2.setGeometry(QtCore.QRect(240, 360, 301, 61))\n",
    "        font = QtGui.QFont()\n",
    "        font.setPointSize(12)\n",
    "        font.setBold(True)\n",
    "        font.setWeight(75)\n",
    "        self.pushButton_2.setFont(font)\n",
    "        self.pushButton_2.setObjectName(\"pushButton_2\")\n",
    "\n",
    "        self.retranslateUi(Form)\n",
    "        self.pushButton.clicked.connect(self.lineEdit.clear)\n",
    "        QtCore.QMetaObject.connectSlotsByName(Form)\n",
    "\n",
    "    def retranslateUi(self, Form):\n",
    "        _translate = QtCore.QCoreApplication.translate\n",
    "        Form.setWindowTitle(_translate(\"Text To Video Generator\", \"Text To Video Generator\"))\n",
    "        self.label.setText(_translate(\"Form\", \"Input Text\"))\n",
    "        self.pushButton.setText(_translate(\"Form\", \"Reset\"))\n",
    "        self.pushButton_2.setText(_translate(\"Form\", \"Enter\"))\n",
    "\n",
    "\n",
    "if __name__ == \"__main__\":\n",
    "    import sys\n",
    "    app = QtWidgets.QApplication(sys.argv)\n",
    "    Form = QtWidgets.QWidget()\n",
    "    ui = Ui_Form()\n",
    "    ui.setupUi(Form)\n",
    "    Form.show()\n",
    "    sys.exit(app.exec_())"
   ]
  },
  {
   "cell_type": "markdown",
   "metadata": {
    "collapsed": true
   },
   "source": [
    " \"\"\"from PIL import Image, ImageDraw\n",
    "img = Image.new(mode, size, color)\n",
    "img.save(filename)\"\"\""
   ]
  },
  {
   "cell_type": "markdown",
   "metadata": {},
   "source": [
    "# Image To text \n"
   ]
  },
  {
   "cell_type": "code",
   "execution_count": 4,
   "metadata": {},
   "outputs": [
    {
     "name": "stdout",
     "output_type": "stream",
     "text": [
      "Defence Procurement and Industry Development — Some Lessons\n",
      "from Australia\n",
      "\n",
      "Stefan Markowski and Peter Hall*\n",
      "\n",
      "School of Business\n",
      "UNSW at ADFA,\n",
      "\n",
      "Background Notes for Panel IT: Comparative Views on the Economics of Defence Acquisition,\n",
      "Defence Acquisition: Building Canada’s Future Military Forces\n",
      "Donald Gordon Centre, Queen's University at Kingston\n",
      "1-2 December 2003\n",
      "\n",
      "(first draft — not to be cited without the authors’ permission)\n",
      "\n",
      "Few countries have experimented as widely as Australia with different instruments to\n",
      "achieve defence industry policy objectives. The small but quite versatile defence-\n",
      "oriented industry sector to have emerged over the past twenty years has delivered\n",
      "weapons systems ranging from locally assembled and part-manufactured small arms\n",
      "and land vehicles, the (part) assembly of F-18s, to *built-to-(modified)-print’ frigates\n",
      "and minehunters and highly Australianised Collins Class conventional submarines. At\n",
      "least half of the delivered value appears to have been added in country. To a non-\n",
      "economist, all this may appear an unqualified technological and industrial\n",
      "achievement, for which the country’s Australian (defence) Industry Involvement (AII)\n",
      "program should take credit. As economists, we have reservations about the\n",
      "effectiveness of the AII, In this paper, we discuss the use of defence procurement to\n",
      "achieve strategic industry development objectives and broader economic goals. As a\n",
      "foundation we examine the value adding process that delivers national security. And\n",
      "we focus on the Australian experience of defence industry policy to see, in practice,\n",
      "how the relationship between procurement and defence industry objectives has\n",
      "actually worked out.\n",
      "\n",
      " \n",
      "\n",
      "\"Stefan Markowski and Peter Hall are Associate Professor and Professor respectively at the School of\n",
      "Business, The University of New South Wales at the Australian Defence Force Academy, Canberra,\n",
      "ACT 2600. Their interests include economic and management aspects of defence procurement,\n",
      "dustry, technology and R&D. They can be best reached via e-mail: s.markowski@adfa.edu.au or\n",
      "pohall@adfa.edu.au.\n"
     ]
    }
   ],
   "source": [
    "from PIL import Image\n",
    "from pytesseract import image_to_string\n",
    "img=Image.open('img.jpg')\n",
    "text=image_to_string(img)\n",
    "print(text)"
   ]
  },
  {
   "cell_type": "code",
   "execution_count": null,
   "metadata": {
    "collapsed": true
   },
   "outputs": [],
   "source": []
  },
  {
   "cell_type": "code",
   "execution_count": null,
   "metadata": {
    "collapsed": true
   },
   "outputs": [],
   "source": []
  },
  {
   "cell_type": "code",
   "execution_count": null,
   "metadata": {
    "collapsed": true
   },
   "outputs": [],
   "source": [
    "\"\"\"from PIL import Image, ImageDraw,ImageFont\n",
    "#C:\\Users\\Microsoft-PC\\Desktop\\LeadingIn8dia\\images\n",
    "image=Image.open(\"img.jpg\")\n",
    "font_type=ImageFont.truetype(\"Arial.ttf\",18)\n",
    "draw=ImageDraw.Draw(image)\n",
    "draw.text(xy=(50,50),text=\"Text One\",fill=(255,69,0),font=font_type)\n",
    "image.show()\"\"\""
   ]
  },
  {
   "cell_type": "code",
   "execution_count": 9,
   "metadata": {},
   "outputs": [
    {
     "name": "stdout",
     "output_type": "stream",
     "text": [
      "[[[255 255 255]\n",
      "  [255 255 255]\n",
      "  [255 255 255]\n",
      "  ...\n",
      "  [255 255 255]\n",
      "  [255 255 255]\n",
      "  [255 255 255]]\n",
      "\n",
      " [[255 255 255]\n",
      "  [255 255 255]\n",
      "  [255 255 255]\n",
      "  ...\n",
      "  [255 255 255]\n",
      "  [255 255 255]\n",
      "  [255 255 255]]\n",
      "\n",
      " [[255 255 255]\n",
      "  [255 255 255]\n",
      "  [255 255 255]\n",
      "  ...\n",
      "  [255 255 255]\n",
      "  [255 255 255]\n",
      "  [255 255 255]]\n",
      "\n",
      " ...\n",
      "\n",
      " [[255 255 255]\n",
      "  [255 255 255]\n",
      "  [255 255 255]\n",
      "  ...\n",
      "  [255 255 255]\n",
      "  [255 255 255]\n",
      "  [255 255 255]]\n",
      "\n",
      " [[255 255 255]\n",
      "  [255 255 255]\n",
      "  [255 255 255]\n",
      "  ...\n",
      "  [255 255 255]\n",
      "  [255 255 255]\n",
      "  [255 255 255]]\n",
      "\n",
      " [[255 255 255]\n",
      "  [255 255 255]\n",
      "  [255 255 255]\n",
      "  ...\n",
      "  [255 255 255]\n",
      "  [255 255 255]\n",
      "  [255 255 255]]]\n"
     ]
    },
    {
     "data": {
      "image/png": "[encoded data removed]",
      "text/plain": [
       "<Figure size 432x288 with 1 Axes>"
      ]
     },
     "metadata": {},
     "output_type": "display_data"
    }
   ],
   "source": [
    "from PIL import Image\n",
    "import numpy as np\n",
    "import matplotlib.pyplot as plt\n",
    "i=Image.open('img.jpg')\n",
    "iar=np.array(i)\n",
    "print(iar)\n",
    "plt.imshow(iar)\n",
    "plt.show()\n"
   ]
  },
  {
   "cell_type": "code",
   "execution_count": null,
   "metadata": {
    "collapsed": true
   },
   "outputs": [],
   "source": []
  },
  {
   "cell_type": "code",
   "execution_count": null,
   "metadata": {
    "collapsed": true
   },
   "outputs": [],
   "source": []
  },
  {
   "cell_type": "code",
   "execution_count": null,
   "metadata": {
    "collapsed": true
   },
   "outputs": [],
   "source": []
  },
  {
   "cell_type": "code",
   "execution_count": 3,
   "metadata": {
    "collapsed": true
   },
   "outputs": [],
   "source": [
    "\n",
    "from PIL import Image, ImageDraw, ImageFont\n",
    " \n",
    "# create Image object with the input image\n",
    " \n",
    "image = Image.open('img.jpg')\n",
    " \n",
    "# initialise the drawing context with\n",
    "# the image object as background\n",
    " \n",
    "draw = ImageDraw.Draw(image)"
   ]
  },
  {
   "cell_type": "code",
   "execution_count": null,
   "metadata": {
    "collapsed": true
   },
   "outputs": [],
   "source": [
    "\"\"\"# desired size\n",
    " \n",
    "font = ImageFont.truetype('Roboto-Bold.ttf', size=45)\n",
    " \n",
    "# starting position of the message\n",
    " \n",
    "(x, y) = (50, 50)\n",
    "message = \"Happy Birthday!\"\n",
    "color = 'rgb(0, 0, 0)' # black color\n",
    " \n",
    "# draw the message on the background\n",
    " \n",
    "draw.text((x, y), message, fill=color, font=font)\n",
    "(x, y) = (150, 150)\n",
    "name = 'Vinay'\n",
    "color = 'rgb(255, 255, 255)' # white color\n",
    "draw.text((x, y), name, fill=color, font=font)\n",
    " \n",
    "# save the edited image\n",
    " \n",
    "image.save('img2.jpg')\"\"\""
   ]
  },
  {
   "cell_type": "code",
   "execution_count": 7,
   "metadata": {
    "collapsed": true
   },
   "outputs": [],
   "source": [
    "def generate_img(output=\"\", theme={}, text=\"\", resolution=(1920,1080)):\n",
    "\n",
    "    # img = Image.open(backdrop)\n",
    "    img = Image.new(\"RGB\", resolution, theme[\"background\"])\n",
    "    W, H = img.size\n",
    "\n",
    "    logo = Image.open(DEFAULT_DIR+\"img.jpg\")\n",
    "    colorized_img = ImageOps.colorize(logo.convert(\"L\"), theme[\"text\"], theme[\"background\"])\n",
    "    size = int((W/100)*17)\n",
    "    logo_newsize = colorized_img.resize((size, size), Image.ANTIALIAS)\n",
    "    img.paste(logo_newsize, (int((W-size)/2), int((H-size)/2)))\n",
    "\n",
    "    draw = ImageDraw.Draw(img)\n",
    "\n",
    "    base_font_pixle = int((56/1920)*resolution[0])\n",
    "\n",
    "    font = ImageFont.truetype(\"DejaVuSansMono.ttf\", base_font_pixle)\n",
    "    w, h = font.getsize(text)\n",
    "\n",
    "    text_draw(draw, text, base_font_pixle, img.size, theme)\n",
    "\n",
    "    img.save(output, quality=100) "
   ]
  },
  {
   "cell_type": "code",
   "execution_count": null,
   "metadata": {
    "collapsed": true
   },
   "outputs": [],
   "source": []
  },
  {
   "cell_type": "code",
   "execution_count": null,
   "metadata": {
    "collapsed": true
   },
   "outputs": [],
   "source": []
  },
  {
   "cell_type": "markdown",
   "metadata": {},
   "source": [
    "# Text TO Image\n"
   ]
  },
  {
   "cell_type": "code",
   "execution_count": null,
   "metadata": {
    "collapsed": true
   },
   "outputs": [],
   "source": [
    "def drawCaption(img, caption):\n",
    "    img_txt = Image.fromarray(img)\n",
    "    # get a font\n",
    "    fnt = ImageFont.truetype('Pillow/Tests/fonts/FreeMono.ttf', 50)\n",
    "    # get a drawing context\n",
    "    d = ImageDraw.Draw(img_txt)\n",
    "\n",
    "    # draw text, half opacity\n",
    "    d.text((10, 256), 'Stage-I', font=fnt, fill=(255, 255, 255, 255))\n",
    "    d.text((10, 512), 'Stage-II', font=fnt, fill=(255, 255, 255, 255))\n",
    "    if img.shape[0] > 832:\n",
    "        d.text((10, 832), 'Stage-I', font=fnt, fill=(255, 255, 255, 255))\n",
    "        d.text((10, 1088), 'Stage-II', font=fnt, fill=(255, 255, 255, 255))\n",
    "\n",
    "    idx = caption.find(' ', 60)\n",
    "    if idx == -1:\n",
    "        d.text((256, 10), caption, font=fnt, fill=(255, 255, 255, 255))\n",
    "    else:\n",
    "        cap1 = caption[:idx]\n",
    "        cap2 = caption[idx+1:]\n",
    "        d.text((256, 10), cap1, font=fnt, fill=(255, 255, 255, 255))\n",
    "        d.text((256, 60), cap2, font=fnt, fill=(255, 255, 255, 255))\n",
    "\n",
    "    return img_txt "
   ]
  },
  {
   "cell_type": "markdown",
   "metadata": {},
   "source": [
    "# Text To Images-- Codes"
   ]
  },
  {
   "cell_type": "code",
   "execution_count": 16,
   "metadata": {},
   "outputs": [
    {
     "ename": "ModuleNotFoundError",
     "evalue": "No module named 'misc'",
     "output_type": "error",
     "traceback": [
      "\u001b[1;31m---------------------------------------------------------------------------\u001b[0m",
      "\u001b[1;31mModuleNotFoundError\u001b[0m                       Traceback (most recent call last)",
      "\u001b[1;32m<ipython-input-16-510d68e71b99>\u001b[0m in \u001b[0;36m<module>\u001b[1;34m()\u001b[0m\n\u001b[0;32m     12\u001b[0m \u001b[1;32mimport\u001b[0m \u001b[0mre\u001b[0m\u001b[1;33m\u001b[0m\u001b[0m\n\u001b[0;32m     13\u001b[0m \u001b[1;33m\u001b[0m\u001b[0m\n\u001b[1;32m---> 14\u001b[1;33m \u001b[1;32mfrom\u001b[0m \u001b[0mmisc\u001b[0m\u001b[1;33m.\u001b[0m\u001b[0mconfig\u001b[0m \u001b[1;32mimport\u001b[0m \u001b[0mcfg\u001b[0m\u001b[1;33m,\u001b[0m \u001b[0mcfg_from_file\u001b[0m\u001b[1;33m\u001b[0m\u001b[0m\n\u001b[0m\u001b[0;32m     15\u001b[0m \u001b[1;32mfrom\u001b[0m \u001b[0mmisc\u001b[0m\u001b[1;33m.\u001b[0m\u001b[0mutils\u001b[0m \u001b[1;32mimport\u001b[0m \u001b[0mmkdir_p\u001b[0m\u001b[1;33m\u001b[0m\u001b[0m\n\u001b[0;32m     16\u001b[0m \u001b[1;32mfrom\u001b[0m \u001b[0mstageII\u001b[0m\u001b[1;33m.\u001b[0m\u001b[0mmodel\u001b[0m \u001b[1;32mimport\u001b[0m \u001b[0mCondGAN\u001b[0m\u001b[1;33m\u001b[0m\u001b[0m\n",
      "\u001b[1;31mModuleNotFoundError\u001b[0m: No module named 'misc'"
     ]
    }
   ],
   "source": [
    "from __future__ import division\n",
    "from __future__ import print_function\n",
    "\n",
    "import prettytensor as pt\n",
    "import tensorflow as tf\n",
    "import numpy as np\n",
    "import scipy.misc\n",
    "import os\n",
    "import argparse\n",
    "import torchfile\n",
    "from PIL import Image, ImageDraw, ImageFont\n",
    "import re\n",
    "\n",
    "from misc.config import cfg, cfg_from_file\n",
    "from misc.utils import mkdir_p\n",
    "from stageII.model import CondGAN\n",
    "\n",
    "\n",
    "def parse_args():\n",
    "    parser = argparse.ArgumentParser(description='Train a GAN network')\n",
    "    parser.add_argument('--cfg', dest='cfg_file',\n",
    "                        help='optional config file',\n",
    "                        default=None, type=str)\n",
    "    parser.add_argument('--gpu', dest='gpu_id',\n",
    "                        help='GPU device id to use [0]',\n",
    "                        default=-1, type=int)\n",
    "    parser.add_argument('--caption_path', type=str, default=None,\n",
    "                        help='Path to the file with text sentences')\n",
    "    # if len(sys.argv) == 1:\n",
    "    #    parser.print_help()\n",
    "    #    sys.exit(1)\n",
    "    args = parser.parse_args()\n",
    "    return args\n",
    "\n",
    "\n",
    "def sample_encoded_context(embeddings, model, bAugmentation=True):\n",
    "    '''Helper function for init_opt'''\n",
    "    # Build conditioning augmentation structure for text embedding\n",
    "    # under different variable_scope: 'g_net' and 'hr_g_net'\n",
    "    c_mean_logsigma = model.generate_condition(embeddings)\n",
    "    mean = c_mean_logsigma[0]\n",
    "    if bAugmentation:\n",
    "        # epsilon = tf.random_normal(tf.shape(mean))\n",
    "        epsilon = tf.truncated_normal(tf.shape(mean))\n",
    "        stddev = tf.exp(c_mean_logsigma[1])\n",
    "        c = mean + stddev * epsilon\n",
    "    else:\n",
    "        c = mean\n",
    "    return c\n",
    "\n",
    "\n",
    "def build_model(sess, embedding_dim, batch_size):\n",
    "    model = CondGAN(\n",
    "        lr_imsize=cfg.TEST.LR_IMSIZE,\n",
    "        hr_lr_ratio=int(cfg.TEST.HR_IMSIZE/cfg.TEST.LR_IMSIZE))\n",
    "\n",
    "    embeddings = tf.placeholder(\n",
    "        tf.float32, [batch_size, embedding_dim],\n",
    "        name='conditional_embeddings')\n",
    "    with pt.defaults_scope(phase=pt.Phase.test):\n",
    "        with tf.variable_scope(\"g_net\"):\n",
    "            c = sample_encoded_context(embeddings, model)\n",
    "            z = tf.random_normal([batch_size, cfg.Z_DIM])\n",
    "            fake_images = model.get_generator(tf.concat(1, [c, z]))\n",
    "        with tf.variable_scope(\"hr_g_net\"):\n",
    "            hr_c = sample_encoded_context(embeddings, model)\n",
    "            hr_fake_images = model.hr_get_generator(fake_images, hr_c)\n",
    "\n",
    "    ckt_path = cfg.TEST.PRETRAINED_MODEL\n",
    "    if ckt_path.find('.ckpt') != -1:\n",
    "        print(\"Reading model parameters from %s\" % ckt_path)\n",
    "        saver = tf.train.Saver(tf.all_variables())\n",
    "        saver.restore(sess, ckt_path)\n",
    "    else:\n",
    "        print(\"Input a valid model path.\")\n",
    "    return embeddings, fake_images, hr_fake_images\n",
    "\n",
    "\n",
    "def drawCaption(img, caption):\n",
    "    img_txt = Image.fromarray(img)\n",
    "    # get a font\n",
    "    fnt = ImageFont.truetype('Pillow/Tests/fonts/FreeMono.ttf', 50)\n",
    "    # get a drawing context\n",
    "    d = ImageDraw.Draw(img_txt)\n",
    "\n",
    "    # draw text, half opacity\n",
    "    d.text((10, 256), 'Stage-I', font=fnt, fill=(255, 255, 255, 255))\n",
    "    d.text((10, 512), 'Stage-II', font=fnt, fill=(255, 255, 255, 255))\n",
    "    if img.shape[0] > 832:\n",
    "        d.text((10, 832), 'Stage-I', font=fnt, fill=(255, 255, 255, 255))\n",
    "        d.text((10, 1088), 'Stage-II', font=fnt, fill=(255, 255, 255, 255))\n",
    "\n",
    "    idx = caption.find(' ', 60)\n",
    "    if idx == -1:\n",
    "        d.text((256, 10), caption, font=fnt, fill=(255, 255, 255, 255))\n",
    "    else:\n",
    "        cap1 = caption[:idx]\n",
    "        cap2 = caption[idx+1:]\n",
    "        d.text((256, 10), cap1, font=fnt, fill=(255, 255, 255, 255))\n",
    "        d.text((256, 60), cap2, font=fnt, fill=(255, 255, 255, 255))\n",
    "\n",
    "    return img_txt\n",
    "\n",
    "\n",
    "def save_super_images(sample_batchs, hr_sample_batchs,\n",
    "                      captions_batch, batch_size,\n",
    "                      startID, save_dir):\n",
    "    if not os.path.isdir(save_dir):\n",
    "        print('Make a new folder: ', save_dir)\n",
    "        mkdir_p(save_dir)\n",
    "\n",
    "    # Save up to 16 samples for each text embedding/sentence\n",
    "    img_shape = hr_sample_batchs[0][0].shape\n",
    "    for j in range(batch_size):\n",
    "        if not re.search('[a-zA-Z]+', captions_batch[j]):\n",
    "            continue\n",
    "\n",
    "        padding = np.zeros(img_shape)\n",
    "        row1 = [padding]\n",
    "        row2 = [padding]\n",
    "        # First row with up to 8 samples\n",
    "        for i in range(np.minimum(8, len(sample_batchs))):\n",
    "            lr_img = sample_batchs[i][j]\n",
    "            hr_img = hr_sample_batchs[i][j]\n",
    "            hr_img = (hr_img + 1.0) * 127.5\n",
    "            re_sample = scipy.misc.imresize(lr_img, hr_img.shape[:2])\n",
    "            row1.append(re_sample)\n",
    "            row2.append(hr_img)\n",
    "        row1 = np.concatenate(row1, axis=1)\n",
    "        row2 = np.concatenate(row2, axis=1)\n",
    "        superimage = np.concatenate([row1, row2], axis=0)\n",
    "\n",
    "        # Second 8 samples with up to 8 samples\n",
    "        if len(sample_batchs) > 8:\n",
    "            row1 = [padding]\n",
    "            row2 = [padding]\n",
    "            for i in range(8, len(sample_batchs)):\n",
    "                lr_img = sample_batchs[i][j]\n",
    "                hr_img = hr_sample_batchs[i][j]\n",
    "                hr_img = (hr_img + 1.0) * 127.5\n",
    "                re_sample = scipy.misc.imresize(lr_img, hr_img.shape[:2])\n",
    "                row1.append(re_sample)\n",
    "                row2.append(hr_img)\n",
    "            row1 = np.concatenate(row1, axis=1)\n",
    "            row2 = np.concatenate(row2, axis=1)\n",
    "            super_row = np.concatenate([row1, row2], axis=0)\n",
    "            superimage2 = np.zeros_like(superimage)\n",
    "            superimage2[:super_row.shape[0],\n",
    "                        :super_row.shape[1],\n",
    "                        :super_row.shape[2]] = super_row\n",
    "            mid_padding = np.zeros((64, superimage.shape[1], 3))\n",
    "            superimage =\\\n",
    "                np.concatenate([superimage, mid_padding, superimage2], axis=0)\n",
    "\n",
    "        top_padding = np.zeros((128, superimage.shape[1], 3))\n",
    "        superimage =\\\n",
    "            np.concatenate([top_padding, superimage], axis=0)\n",
    "\n",
    "        fullpath = '%s/sentence%d.jpg' % (save_dir, startID + j)\n",
    "        superimage = drawCaption(np.uint8(superimage), captions_batch[j])\n",
    "        scipy.misc.imsave(fullpath, superimage)\n",
    "\n",
    "\n",
    "if __name__ == \"__main__\":\n",
    "    args = parse_args()\n",
    "    if args.cfg_file is not None:\n",
    "        cfg_from_file(args.cfg_file)\n",
    "    if args.gpu_id != -1:\n",
    "        cfg.GPU_ID = args.gpu_id\n",
    "    if args.caption_path is not None:\n",
    "        cfg.TEST.CAPTION_PATH = args.caption_path\n",
    "\n",
    "    # Load text embeddings generated from the encoder\n",
    "    cap_path = cfg.TEST.CAPTION_PATH\n",
    "    t_file = torchfile.load(cap_path)\n",
    "    captions_list = t_file.raw_txt\n",
    "    embeddings = np.concatenate(t_file.fea_txt, axis=0)\n",
    "    num_embeddings = len(captions_list)\n",
    "    print('Successfully load sentences from: ', cap_path)\n",
    "    print('Total number of sentences:', num_embeddings)\n",
    "    print('num_embeddings:', num_embeddings, embeddings.shape)\n",
    "    # path to save generated samples\n",
    "    save_dir = cap_path[:cap_path.find('.t7')]\n",
    "    if num_embeddings > 0:\n",
    "        batch_size = np.minimum(num_embeddings, cfg.TEST.BATCH_SIZE)\n",
    "\n",
    "        # Build StackGAN and load the model\n",
    "        config = tf.ConfigProto(allow_soft_placement=True)\n",
    "        with tf.Session(config=config) as sess:\n",
    "            with tf.device(\"/gpu:%d\" % cfg.GPU_ID):\n",
    "                embeddings_holder, fake_images_opt, hr_fake_images_opt =\\\n",
    "                    build_model(sess, embeddings.shape[-1], batch_size)\n",
    "\n",
    "                count = 0\n",
    "                while count < num_embeddings:\n",
    "                    iend = count + batch_size\n",
    "                    if iend > num_embeddings:\n",
    "                        iend = num_embeddings\n",
    "                        count = num_embeddings - batch_size\n",
    "                    embeddings_batch = embeddings[count:iend]\n",
    "                    captions_batch = captions_list[count:iend]\n",
    "\n",
    "                    samples_batchs = []\n",
    "                    hr_samples_batchs = []\n",
    "                    # Generate up to 16 images for each sentence with\n",
    "                    # randomness from noise z and conditioning augmentation.\n",
    "                    for i in range(np.minimum(16, cfg.TEST.NUM_COPY)):\n",
    "                        hr_samples, samples =\\\n",
    "                            sess.run([hr_fake_images_opt, fake_images_opt],\n",
    "                                     {embeddings_holder: embeddings_batch})\n",
    "                        samples_batchs.append(samples)\n",
    "                        hr_samples_batchs.append(hr_samples)\n",
    "                    save_super_images(samples_batchs,\n",
    "                                      hr_samples_batchs,\n",
    "                                      captions_batch,\n",
    "                                      batch_size,\n",
    "                                      count, save_dir)\n",
    "                    count += batch_size\n",
    "\n",
    "        print('Finish generating samples for %d sentences:' % num_embeddings)\n",
    "        print('Example sentences:')\n",
    "        for i in xrange(np.minimum(10, num_embeddings)):\n",
    "            print('Sentence %d: %s' % (i, captions_list[i]))"
   ]
  },
  {
   "cell_type": "code",
   "execution_count": null,
   "metadata": {
    "collapsed": true
   },
   "outputs": [],
   "source": []
  },
  {
   "cell_type": "code",
   "execution_count": null,
   "metadata": {
    "collapsed": true
   },
   "outputs": [],
   "source": []
  },
  {
   "cell_type": "code",
   "execution_count": 2,
   "metadata": {
    "collapsed": true
   },
   "outputs": [],
   "source": [
    "from PIL import Image, ImageDraw, ImageFont\n",
    " \n",
    "# create Image object with the input image\n",
    " \n",
    "image = Image.open('img.jpg')\n",
    " \n",
    "# initialise the drawing context with\n",
    "# the image object as background\n",
    " \n",
    "draw = ImageDraw.Draw(image)"
   ]
  },
  {
   "cell_type": "code",
   "execution_count": 3,
   "metadata": {},
   "outputs": [
    {
     "data": {
      "text/plain": [
       "<PIL.ImageDraw.ImageDraw at 0x19c6ee0a278>"
      ]
     },
     "execution_count": 3,
     "metadata": {},
     "output_type": "execute_result"
    }
   ],
   "source": [
    "draw"
   ]
  },
  {
   "cell_type": "code",
   "execution_count": 4,
   "metadata": {
    "collapsed": true
   },
   "outputs": [],
   "source": [
    "image.show()"
   ]
  },
  {
   "cell_type": "code",
   "execution_count": 7,
   "metadata": {},
   "outputs": [
    {
     "ename": "OSError",
     "evalue": "cannot open resource",
     "output_type": "error",
     "traceback": [
      "\u001b[1;31m-------------------------------------------------------\u001b[0m",
      "\u001b[1;31mOSError\u001b[0m               Traceback (most recent call last)",
      "\u001b[1;32m<ipython-input-7-1c73e544201d>\u001b[0m in \u001b[0;36m<module>\u001b[1;34m()\u001b[0m\n\u001b[0;32m      2\u001b[0m \u001b[1;31m# desired sizei\u001b[0m\u001b[1;33m\u001b[0m\u001b[1;33m\u001b[0m\u001b[0m\n\u001b[0;32m      3\u001b[0m \u001b[1;32mimport\u001b[0m \u001b[0mos\u001b[0m\u001b[1;33m\u001b[0m\u001b[0m\n\u001b[1;32m----> 4\u001b[1;33m \u001b[0mfont\u001b[0m \u001b[1;33m=\u001b[0m \u001b[0mImageFont\u001b[0m\u001b[1;33m.\u001b[0m\u001b[0mtruetype\u001b[0m\u001b[1;33m(\u001b[0m\u001b[1;34m'Roboto-Bold.ttf'\u001b[0m\u001b[1;33m,\u001b[0m \u001b[0msize\u001b[0m\u001b[1;33m=\u001b[0m\u001b[1;36m45\u001b[0m\u001b[1;33m)\u001b[0m\u001b[1;33m\u001b[0m\u001b[0m\n\u001b[0m\u001b[0;32m      5\u001b[0m \u001b[1;33m\u001b[0m\u001b[0m\n\u001b[0;32m      6\u001b[0m \u001b[1;31m# starting position of the message\u001b[0m\u001b[1;33m\u001b[0m\u001b[1;33m\u001b[0m\u001b[0m\n",
      "\u001b[1;32m~\\Anaconda3\\lib\\site-packages\\PIL\\ImageFont.py\u001b[0m in \u001b[0;36mtruetype\u001b[1;34m(font, size, index, encoding, layout_engine)\u001b[0m\n\u001b[0;32m    273\u001b[0m \u001b[1;33m\u001b[0m\u001b[0m\n\u001b[0;32m    274\u001b[0m     \u001b[1;32mtry\u001b[0m\u001b[1;33m:\u001b[0m\u001b[1;33m\u001b[0m\u001b[0m\n\u001b[1;32m--> 275\u001b[1;33m         \u001b[1;32mreturn\u001b[0m \u001b[0mFreeTypeFont\u001b[0m\u001b[1;33m(\u001b[0m\u001b[0mfont\u001b[0m\u001b[1;33m,\u001b[0m \u001b[0msize\u001b[0m\u001b[1;33m,\u001b[0m \u001b[0mindex\u001b[0m\u001b[1;33m,\u001b[0m \u001b[0mencoding\u001b[0m\u001b[1;33m,\u001b[0m \u001b[0mlayout_engine\u001b[0m\u001b[1;33m)\u001b[0m\u001b[1;33m\u001b[0m\u001b[0m\n\u001b[0m\u001b[0;32m    276\u001b[0m     \u001b[1;32mexcept\u001b[0m \u001b[0mIOError\u001b[0m\u001b[1;33m:\u001b[0m\u001b[1;33m\u001b[0m\u001b[0m\n\u001b[0;32m    277\u001b[0m         \u001b[0mttf_filename\u001b[0m \u001b[1;33m=\u001b[0m \u001b[0mos\u001b[0m\u001b[1;33m.\u001b[0m\u001b[0mpath\u001b[0m\u001b[1;33m.\u001b[0m\u001b[0mbasename\u001b[0m\u001b[1;33m(\u001b[0m\u001b[0mfont\u001b[0m\u001b[1;33m)\u001b[0m\u001b[1;33m\u001b[0m\u001b[0m\n",
      "\u001b[1;32m~\\Anaconda3\\lib\\site-packages\\PIL\\ImageFont.py\u001b[0m in \u001b[0;36m__init__\u001b[1;34m(self, font, size, index, encoding, layout_engine)\u001b[0m\n\u001b[0;32m    142\u001b[0m \u001b[1;33m\u001b[0m\u001b[0m\n\u001b[0;32m    143\u001b[0m         \u001b[1;32mif\u001b[0m \u001b[0misPath\u001b[0m\u001b[1;33m(\u001b[0m\u001b[0mfont\u001b[0m\u001b[1;33m)\u001b[0m\u001b[1;33m:\u001b[0m\u001b[1;33m\u001b[0m\u001b[0m\n\u001b[1;32m--> 144\u001b[1;33m             \u001b[0mself\u001b[0m\u001b[1;33m.\u001b[0m\u001b[0mfont\u001b[0m \u001b[1;33m=\u001b[0m \u001b[0mcore\u001b[0m\u001b[1;33m.\u001b[0m\u001b[0mgetfont\u001b[0m\u001b[1;33m(\u001b[0m\u001b[0mfont\u001b[0m\u001b[1;33m,\u001b[0m \u001b[0msize\u001b[0m\u001b[1;33m,\u001b[0m \u001b[0mindex\u001b[0m\u001b[1;33m,\u001b[0m \u001b[0mencoding\u001b[0m\u001b[1;33m,\u001b[0m \u001b[0mlayout_engine\u001b[0m\u001b[1;33m=\u001b[0m\u001b[0mlayout_engine\u001b[0m\u001b[1;33m)\u001b[0m\u001b[1;33m\u001b[0m\u001b[0m\n\u001b[0m\u001b[0;32m    145\u001b[0m         \u001b[1;32melse\u001b[0m\u001b[1;33m:\u001b[0m\u001b[1;33m\u001b[0m\u001b[0m\n\u001b[0;32m    146\u001b[0m             \u001b[0mself\u001b[0m\u001b[1;33m.\u001b[0m\u001b[0mfont_bytes\u001b[0m \u001b[1;33m=\u001b[0m \u001b[0mfont\u001b[0m\u001b[1;33m.\u001b[0m\u001b[0mread\u001b[0m\u001b[1;33m(\u001b[0m\u001b[1;33m)\u001b[0m\u001b[1;33m\u001b[0m\u001b[0m\n",
      "\u001b[1;31mOSError\u001b[0m: cannot open resource"
     ]
    }
   ],
   "source": [
    "# create font object with the font file and specify\n",
    "# desired sizei\n",
    "import os \n",
    "font = ImageFont.truetype('Roboto-Bold.ttf', size=45)\n",
    " \n",
    "# starting position of the message\n",
    " \n",
    "(x, y) = (50, 50)\n",
    "message = \"Happy Birthday!\"\n",
    "color = 'rgb(0, 0, 0)' # black color\n",
    " \n",
    "# draw the message on the background\n",
    " \n",
    "draw.text((x, y), message, fill=color, font=font)\n",
    "(x, y) = (150, 150)\n",
    "name = 'Vinay'\n",
    "color = 'rgb(255, 255, 255)' # white color\n",
    "draw.text((x, y), name, fill=color, font=font)\n",
    " \n",
    "# save the edited image\n",
    " \n",
    "image.save('greeting_card.jpg')"
   ]
  },
  {
   "cell_type": "code",
   "execution_count": 13,
   "metadata": {},
   "outputs": [
    {
     "ename": "OSError",
     "evalue": "cannot open resource",
     "output_type": "error",
     "traceback": [
      "\u001b[1;31m-------------------------------------------------------\u001b[0m",
      "\u001b[1;31mOSError\u001b[0m               Traceback (most recent call last)",
      "\u001b[1;32m<ipython-input-13-9eae1c20d878>\u001b[0m in \u001b[0;36m<module>\u001b[1;34m()\u001b[0m\n\u001b[0;32m      2\u001b[0m \u001b[1;32mfrom\u001b[0m \u001b[0mPIL\u001b[0m \u001b[1;32mimport\u001b[0m \u001b[0mImage\u001b[0m\u001b[1;33m,\u001b[0m \u001b[0mImageDraw\u001b[0m\u001b[1;33m,\u001b[0m \u001b[0mImageFont\u001b[0m\u001b[1;33m\u001b[0m\u001b[0m\n\u001b[0;32m      3\u001b[0m \u001b[0mimage\u001b[0m\u001b[1;33m=\u001b[0m\u001b[0mImage\u001b[0m\u001b[1;33m.\u001b[0m\u001b[0mopen\u001b[0m\u001b[1;33m(\u001b[0m\u001b[1;34m'img.jpg'\u001b[0m\u001b[1;33m)\u001b[0m\u001b[1;33m\u001b[0m\u001b[0m\n\u001b[1;32m----> 4\u001b[1;33m \u001b[0mfont_type\u001b[0m\u001b[1;33m=\u001b[0m\u001b[0mImageFont\u001b[0m\u001b[1;33m.\u001b[0m\u001b[0mtruetype\u001b[0m\u001b[1;33m(\u001b[0m\u001b[1;34m'Arial.ttf'\u001b[0m\u001b[1;33m,\u001b[0m\u001b[1;36m18\u001b[0m\u001b[1;33m)\u001b[0m\u001b[1;33m\u001b[0m\u001b[0m\n\u001b[0m\u001b[0;32m      5\u001b[0m \u001b[0mdraw\u001b[0m\u001b[1;33m=\u001b[0m\u001b[0mImageDraw\u001b[0m\u001b[1;33m.\u001b[0m\u001b[0mDraw\u001b[0m\u001b[1;33m(\u001b[0m\u001b[0mimage\u001b[0m\u001b[1;33m)\u001b[0m\u001b[1;33m\u001b[0m\u001b[0m\n\u001b[0;32m      6\u001b[0m \u001b[0mdraw\u001b[0m\u001b[1;33m.\u001b[0m\u001b[0mtext\u001b[0m\u001b[1;33m(\u001b[0m\u001b[0mxy\u001b[0m\u001b[1;33m=\u001b[0m\u001b[1;33m(\u001b[0m\u001b[1;36m50\u001b[0m\u001b[1;33m,\u001b[0m\u001b[1;36m50\u001b[0m\u001b[1;33m)\u001b[0m\u001b[1;33m,\u001b[0m\u001b[0mtext\u001b[0m\u001b[1;33m=\u001b[0m\u001b[1;34m\"text One\"\u001b[0m\u001b[1;33m,\u001b[0m\u001b[0mfill\u001b[0m\u001b[1;33m=\u001b[0m\u001b[1;33m(\u001b[0m\u001b[1;36m255\u001b[0m\u001b[1;33m,\u001b[0m\u001b[1;36m69\u001b[0m\u001b[1;33m,\u001b[0m\u001b[1;36m0\u001b[0m\u001b[1;33m)\u001b[0m\u001b[1;33m)\u001b[0m\u001b[1;33m\u001b[0m\u001b[0m\n",
      "\u001b[1;32m~\\Anaconda3\\lib\\site-packages\\PIL\\ImageFont.py\u001b[0m in \u001b[0;36mtruetype\u001b[1;34m(font, size, index, encoding, layout_engine)\u001b[0m\n\u001b[0;32m    273\u001b[0m \u001b[1;33m\u001b[0m\u001b[0m\n\u001b[0;32m    274\u001b[0m     \u001b[1;32mtry\u001b[0m\u001b[1;33m:\u001b[0m\u001b[1;33m\u001b[0m\u001b[0m\n\u001b[1;32m--> 275\u001b[1;33m         \u001b[1;32mreturn\u001b[0m \u001b[0mFreeTypeFont\u001b[0m\u001b[1;33m(\u001b[0m\u001b[0mfont\u001b[0m\u001b[1;33m,\u001b[0m \u001b[0msize\u001b[0m\u001b[1;33m,\u001b[0m \u001b[0mindex\u001b[0m\u001b[1;33m,\u001b[0m \u001b[0mencoding\u001b[0m\u001b[1;33m,\u001b[0m \u001b[0mlayout_engine\u001b[0m\u001b[1;33m)\u001b[0m\u001b[1;33m\u001b[0m\u001b[0m\n\u001b[0m\u001b[0;32m    276\u001b[0m     \u001b[1;32mexcept\u001b[0m \u001b[0mIOError\u001b[0m\u001b[1;33m:\u001b[0m\u001b[1;33m\u001b[0m\u001b[0m\n\u001b[0;32m    277\u001b[0m         \u001b[0mttf_filename\u001b[0m \u001b[1;33m=\u001b[0m \u001b[0mos\u001b[0m\u001b[1;33m.\u001b[0m\u001b[0mpath\u001b[0m\u001b[1;33m.\u001b[0m\u001b[0mbasename\u001b[0m\u001b[1;33m(\u001b[0m\u001b[0mfont\u001b[0m\u001b[1;33m)\u001b[0m\u001b[1;33m\u001b[0m\u001b[0m\n",
      "\u001b[1;32m~\\Anaconda3\\lib\\site-packages\\PIL\\ImageFont.py\u001b[0m in \u001b[0;36m__init__\u001b[1;34m(self, font, size, index, encoding, layout_engine)\u001b[0m\n\u001b[0;32m    142\u001b[0m \u001b[1;33m\u001b[0m\u001b[0m\n\u001b[0;32m    143\u001b[0m         \u001b[1;32mif\u001b[0m \u001b[0misPath\u001b[0m\u001b[1;33m(\u001b[0m\u001b[0mfont\u001b[0m\u001b[1;33m)\u001b[0m\u001b[1;33m:\u001b[0m\u001b[1;33m\u001b[0m\u001b[0m\n\u001b[1;32m--> 144\u001b[1;33m             \u001b[0mself\u001b[0m\u001b[1;33m.\u001b[0m\u001b[0mfont\u001b[0m \u001b[1;33m=\u001b[0m \u001b[0mcore\u001b[0m\u001b[1;33m.\u001b[0m\u001b[0mgetfont\u001b[0m\u001b[1;33m(\u001b[0m\u001b[0mfont\u001b[0m\u001b[1;33m,\u001b[0m \u001b[0msize\u001b[0m\u001b[1;33m,\u001b[0m \u001b[0mindex\u001b[0m\u001b[1;33m,\u001b[0m \u001b[0mencoding\u001b[0m\u001b[1;33m,\u001b[0m \u001b[0mlayout_engine\u001b[0m\u001b[1;33m=\u001b[0m\u001b[0mlayout_engine\u001b[0m\u001b[1;33m)\u001b[0m\u001b[1;33m\u001b[0m\u001b[0m\n\u001b[0m\u001b[0;32m    145\u001b[0m         \u001b[1;32melse\u001b[0m\u001b[1;33m:\u001b[0m\u001b[1;33m\u001b[0m\u001b[0m\n\u001b[0;32m    146\u001b[0m             \u001b[0mself\u001b[0m\u001b[1;33m.\u001b[0m\u001b[0mfont_bytes\u001b[0m \u001b[1;33m=\u001b[0m \u001b[0mfont\u001b[0m\u001b[1;33m.\u001b[0m\u001b[0mread\u001b[0m\u001b[1;33m(\u001b[0m\u001b[1;33m)\u001b[0m\u001b[1;33m\u001b[0m\u001b[0m\n",
      "\u001b[1;31mOSError\u001b[0m: cannot open resource"
     ]
    }
   ],
   "source": [
    "\"\"\"import os\n",
    "from PIL import Image, ImageDraw, ImageFont\n",
    "image=Image.open('img.jpg')\n",
    "font_type=ImageFont.truetype('Arial.ttf',18)\n",
    "draw=ImageDraw.Draw(image)\n",
    "draw.text(xy=(50,50),text=\"text One\",fill=(255,69,0))\n",
    "image.show()\n",
    "\"\"\""
   ]
  },
  {
   "cell_type": "code",
   "execution_count": 1,
   "metadata": {
    "collapsed": true
   },
   "outputs": [],
   "source": [
    "from PIL import Image, ImageDraw\n",
    "img = Image.new('RGB', (1280, 720), color = (73, 109, 137))\n",
    "d = ImageDraw.Draw(img)\n",
    "d.text((10,50), \"Load a font file.\")\n",
    "img.save('output_image.png')"
   ]
  },
  {
   "cell_type": "code",
   "execution_count": null,
   "metadata": {
    "collapsed": true
   },
   "outputs": [],
   "source": []
  },
  {
   "cell_type": "code",
   "execution_count": null,
   "metadata": {
    "collapsed": true
   },
   "outputs": [],
   "source": []
  },
  {
   "cell_type": "code",
   "execution_count": 2,
   "metadata": {},
   "outputs": [
    {
     "name": "stdout",
     "output_type": "stream",
     "text": [
      "final font size 98\n"
     ]
    }
   ],
   "source": [
    "from PIL import ImageFont, ImageDraw, Image\n",
    "\n",
    "image = Image.open('output_image.png')\n",
    "draw = ImageDraw.Draw(image)\n",
    "txt = \"Text To Video \"\n",
    "fontsize = 1  # starting font size\n",
    "\n",
    "# portion of image width you want text width to be\n",
    "img_fraction = 0.50\n",
    "\n",
    "font = ImageFont.truetype(\"arial.ttf\", fontsize)\n",
    "while font.getsize(txt)[0] < img_fraction*image.size[0]:\n",
    "    # iterate until the text size is just larger than the criteria\n",
    "    fontsize += 1\n",
    "    font = ImageFont.truetype(\"arial.ttf\", fontsize)\n",
    "\n",
    "# optionally de-increment to be sure it is less than criteria\n",
    "fontsize -= 1\n",
    "font = ImageFont.truetype(\"arial.ttf\", fontsize)\n",
    "\n",
    "print('final font size',fontsize)\n",
    "draw.text((10, 25), txt, font=font) # put the text on the image\n",
    "image.save('hsvwheel_txt.png') # save it"
   ]
  },
  {
   "cell_type": "code",
   "execution_count": null,
   "metadata": {
    "collapsed": true
   },
   "outputs": [],
   "source": []
  },
  {
   "cell_type": "code",
   "execution_count": null,
   "metadata": {
    "collapsed": true
   },
   "outputs": [],
   "source": []
  },
  {
   "cell_type": "code",
   "execution_count": null,
   "metadata": {
    "collapsed": true
   },
   "outputs": [],
   "source": []
  }
 ],
 "metadata": {
  "kernelspec": {
   "display_name": "Python 3",
   "language": "python",
   "name": "python3"
  },
  "language_info": {
   "codemirror_mode": {
    "name": "ipython",
    "version": 3
   },
   "file_extension": ".py",
   "mimetype": "text/x-python",
   "name": "python",
   "nbconvert_exporter": "python",
   "pygments_lexer": "ipython3",
   "version": "3.6.3"
  }
 },
 "nbformat": 4,
 "nbformat_minor": 2
}
