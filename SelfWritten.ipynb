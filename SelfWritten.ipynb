{
 "cells": [
  {
   "cell_type": "code",
   "execution_count": 130,
   "metadata": {},
   "outputs": [
    {
     "data": {
      "text/plain": [
       "'India Gate is situated in New Delhi, India. It is a historical monument which was earlier known as All India War Memorial. It was designed by Edwin Lutyens in 1921, in the memory of the Indian soldiers who died during the World War I.\\n\\nIndia Gate is 42 meters high and a radius of 625 meters. It is a famous tourist destination. At the bottom of India Gate, there is another monument known as Amar Jawan Jyoti. A perpetual flame is lit at the bottom, to pay tribute to the soldiers who gave their life for the nation and remain unknown. Amar Jawan Jyoti was constructed after independence. It is customary for the President and the Prime Minister of the country to pay homage at India Gate during state ceremonies.\\n\\nThe view around India Gate is beautiful, and one can see Rashtrapati Bhawan standing majestically in the vicinity of the India Gate. It is a lovely picnic place because of the children park, boat club and the cold breeze of the fountain. On the Republic day every year, a parade is conducted by the Indian army, navy, and soldiers of India at the India Gate. During the parade, one can appreciate the diverse cultural heritage of India, as many people from all over the country participate in it. Latest advancement of defense technology is displayed on this occasion, and many people are awarded for their bravery towards the nation.'"
      ]
     },
     "execution_count": 130,
     "metadata": {},
     "output_type": "execute_result"
    }
   ],
   "source": [
    "# load text\n",
    "filename = 'TextFile.txt'\n",
    "file = open(filename, 'rt')\n",
    "text = file.read()\n",
    "file.close()\n",
    "text"
   ]
  },
  {
   "cell_type": "code",
   "execution_count": 131,
   "metadata": {},
   "outputs": [
    {
     "name": "stdout",
     "output_type": "stream",
     "text": [
      "compound: 0.5574, neg: 0.056, neu: 0.874, pos: 0.07, "
     ]
    }
   ],
   "source": [
    "# first, we import the relevant modules from the NLTK library\n",
    "from nltk.sentiment.vader import SentimentIntensityAnalyzer\n",
    "\n",
    "# next, we initialize VADER so we can use it within our Python script\n",
    "sid = SentimentIntensityAnalyzer()\n",
    "\n",
    "# the variable 'message_text' now contains the text we will analyze.\n",
    "message_text = text\n",
    "#print(message_text)\n",
    "\n",
    "# Calling the polarity_scores method on sid and passing in the message_text outputs a dictionary with negative, neutral, positive, and compound scores for the input text\n",
    "scores = sid.polarity_scores(message_text)\n",
    "\n",
    "# Here we loop through the keys contained in scores (pos, neu, neg, and compound scores) and print the key-value pairs on the screen\n",
    "\n",
    "for key in sorted(scores):    \n",
    "        print('{0}: {1}, '.format(key, scores[key]), end='')"
   ]
  },
  {
   "cell_type": "code",
   "execution_count": 132,
   "metadata": {},
   "outputs": [
    {
     "data": {
      "text/plain": [
       "{'neg': 0.056, 'neu': 0.874, 'pos': 0.07, 'compound': 0.5574}"
      ]
     },
     "execution_count": 132,
     "metadata": {},
     "output_type": "execute_result"
    }
   ],
   "source": [
    "scores"
   ]
  },
  {
   "cell_type": "code",
   "execution_count": 133,
   "metadata": {},
   "outputs": [
    {
     "name": "stdout",
     "output_type": "stream",
     "text": [
      "neu\n"
     ]
    }
   ],
   "source": [
    "inverse = [(value, key) for key, value in scores.items()]\n",
    "sound_type=max(inverse)[1]\n",
    "print (sound_type)"
   ]
  },
  {
   "cell_type": "code",
   "execution_count": 134,
   "metadata": {
    "collapsed": true
   },
   "outputs": [],
   "source": [
    "import re\n",
    "# Removing Square Brackets and Extra Spaces\n",
    "article_text = re.sub(r'\\[[0-9]*\\]', ' ', text)  \n",
    "article_text = re.sub(r'\\s+', ' ', text) \n",
    "\n",
    "# Removing special characters and digits\n",
    "formatted_article_text = re.sub('[^a-zA-Z]', ' ', article_text )  \n",
    "formatted_article_text = re.sub(r'\\s+', ' ',article_text)"
   ]
  },
  {
   "cell_type": "code",
   "execution_count": 135,
   "metadata": {},
   "outputs": [
    {
     "data": {
      "text/plain": [
       "'India Gate is situated in New Delhi, India. It is a historical monument which was earlier known as All India War Memorial. It was designed by Edwin Lutyens in 1921, in the memory of the Indian soldiers who died during the World War I. India Gate is 42 meters high and a radius of 625 meters. It is a famous tourist destination. At the bottom of India Gate, there is another monument known as Amar Jawan Jyoti. A perpetual flame is lit at the bottom, to pay tribute to the soldiers who gave their life for the nation and remain unknown. Amar Jawan Jyoti was constructed after independence. It is customary for the President and the Prime Minister of the country to pay homage at India Gate during state ceremonies. The view around India Gate is beautiful, and one can see Rashtrapati Bhawan standing majestically in the vicinity of the India Gate. It is a lovely picnic place because of the children park, boat club and the cold breeze of the fountain. On the Republic day every year, a parade is conducted by the Indian army, navy, and soldiers of India at the India Gate. During the parade, one can appreciate the diverse cultural heritage of India, as many people from all over the country participate in it. Latest advancement of defense technology is displayed on this occasion, and many people are awarded for their bravery towards the nation.'"
      ]
     },
     "execution_count": 135,
     "metadata": {},
     "output_type": "execute_result"
    }
   ],
   "source": [
    "formatted_article_text"
   ]
  },
  {
   "cell_type": "code",
   "execution_count": 136,
   "metadata": {},
   "outputs": [
    {
     "name": "stdout",
     "output_type": "stream",
     "text": [
      "['India Gate is situated in New Delhi, India.', 'It is a historical monument which was earlier known as All India War Memorial.', 'It was designed by Edwin Lutyens in 1921, in the memory of the Indian soldiers who died during the World War I. India Gate is 42 meters high and a radius of 625 meters.', 'It is a famous tourist destination.', 'At the bottom of India Gate, there is another monument known as Amar Jawan Jyoti.', 'A perpetual flame is lit at the bottom, to pay tribute to the soldiers who gave their life for the nation and remain unknown.', 'Amar Jawan Jyoti was constructed after independence.', 'It is customary for the President and the Prime Minister of the country to pay homage at India Gate during state ceremonies.', 'The view around India Gate is beautiful, and one can see Rashtrapati Bhawan standing majestically in the vicinity of the India Gate.', 'It is a lovely picnic place because of the children park, boat club and the cold breeze of the fountain.', 'On the Republic day every year, a parade is conducted by the Indian army, navy, and soldiers of India at the India Gate.', 'During the parade, one can appreciate the diverse cultural heritage of India, as many people from all over the country participate in it.', 'Latest advancement of defense technology is displayed on this occasion, and many people are awarded for their bravery towards the nation.'] \n",
      "  \n"
     ]
    }
   ],
   "source": [
    "from nltk.tokenize import word_tokenize\n",
    "from nltk.tokenize import sent_tokenize\n",
    "SenTok=sent_tokenize(formatted_article_text)\n",
    "print(SenTok,\"\\n  \")"
   ]
  },
  {
   "cell_type": "code",
   "execution_count": 137,
   "metadata": {
    "collapsed": true
   },
   "outputs": [],
   "source": [
    "import nltk\n",
    "stopwords = nltk.corpus.stopwords.words('english')\n",
    "\n",
    "word_frequencies = {}  \n",
    "for word in nltk.word_tokenize(formatted_article_text):  \n",
    "    if word not in stopwords:\n",
    "        if word not in word_frequencies.keys():\n",
    "            word_frequencies[word] = 1\n",
    "        else:\n",
    "            word_frequencies[word] += 1"
   ]
  },
  {
   "cell_type": "code",
   "execution_count": 138,
   "metadata": {
    "collapsed": true
   },
   "outputs": [],
   "source": [
    "maximum_frequncy = max(word_frequencies.values())\n",
    "\n",
    "for word in word_frequencies.keys():  \n",
    "    word_frequencies[word] = (word_frequencies[word]/maximum_frequncy)"
   ]
  },
  {
   "cell_type": "code",
   "execution_count": 139,
   "metadata": {
    "collapsed": true
   },
   "outputs": [],
   "source": [
    "sentence_scores = {}  \n",
    "for sent in SenTok:  \n",
    "    for word in nltk.word_tokenize(sent.lower()):\n",
    "        if word in word_frequencies.keys():\n",
    "            if len(sent.split(' ')) < 30:\n",
    "                if sent not in sentence_scores.keys():\n",
    "                    sentence_scores[sent] = word_frequencies[word]\n",
    "                else:\n",
    "                    sentence_scores[sent] += word_frequencies[word]"
   ]
  },
  {
   "cell_type": "code",
   "execution_count": 140,
   "metadata": {},
   "outputs": [
    {
     "data": {
      "text/plain": [
       "{'India Gate is situated in New Delhi, India.': 2.0,\n",
       " 'It is a historical monument which was earlier known as All India War Memorial.': 1.4615384615384617,\n",
       " 'It is a famous tourist destination.': 1.2307692307692308,\n",
       " 'At the bottom of India Gate, there is another monument known as Amar Jawan Jyoti.': 2.4615384615384617,\n",
       " 'A perpetual flame is lit at the bottom, to pay tribute to the soldiers who gave their life for the nation and remain unknown.': 3.2307692307692313,\n",
       " 'Amar Jawan Jyoti was constructed after independence.': 1.1538461538461537,\n",
       " 'It is customary for the President and the Prime Minister of the country to pay homage at India Gate during state ceremonies.': 1.6153846153846154,\n",
       " 'The view around India Gate is beautiful, and one can see Rashtrapati Bhawan standing majestically in the vicinity of the India Gate.': 2.6153846153846154,\n",
       " 'It is a lovely picnic place because of the children park, boat club and the cold breeze of the fountain.': 2.692307692307692,\n",
       " 'On the Republic day every year, a parade is conducted by the Indian army, navy, and soldiers of India at the India Gate.': 4.615384615384616,\n",
       " 'During the parade, one can appreciate the diverse cultural heritage of India, as many people from all over the country participate in it.': 4.0,\n",
       " 'Latest advancement of defense technology is displayed on this occasion, and many people are awarded for their bravery towards the nation.': 3.0}"
      ]
     },
     "execution_count": 140,
     "metadata": {},
     "output_type": "execute_result"
    }
   ],
   "source": [
    "sentence_scores"
   ]
  },
  {
   "cell_type": "code",
   "execution_count": 141,
   "metadata": {},
   "outputs": [
    {
     "name": "stdout",
     "output_type": "stream",
     "text": [
      "On the Republic day every year, a parade is conducted by the Indian army, navy, and soldiers of India at the India Gate. During the parade, one can appreciate the diverse cultural heritage of India, as many people from all over the country participate in it. A perpetual flame is lit at the bottom, to pay tribute to the soldiers who gave their life for the nation and remain unknown. Latest advancement of defense technology is displayed on this occasion, and many people are awarded for their bravery towards the nation. It is a lovely picnic place because of the children park, boat club and the cold breeze of the fountain. The view around India Gate is beautiful, and one can see Rashtrapati Bhawan standing majestically in the vicinity of the India Gate. At the bottom of India Gate, there is another monument known as Amar Jawan Jyoti.\n"
     ]
    }
   ],
   "source": [
    "import heapq  \n",
    "summary_sentences = heapq.nlargest(7, sentence_scores, key=sentence_scores.get)\n",
    "\n",
    "summary = ' '.join(summary_sentences)  \n",
    "print(summary)"
   ]
  },
  {
   "cell_type": "code",
   "execution_count": null,
   "metadata": {
    "collapsed": true
   },
   "outputs": [],
   "source": [
    "summary_sent=sent_tokenize(summary)"
   ]
  },
  {
   "cell_type": "code",
   "execution_count": null,
   "metadata": {
    "collapsed": true
   },
   "outputs": [],
   "source": [
    "summary_sent"
   ]
  },
  {
   "cell_type": "code",
   "execution_count": null,
   "metadata": {
    "collapsed": true
   },
   "outputs": [],
   "source": []
  },
  {
   "cell_type": "code",
   "execution_count": 144,
   "metadata": {},
   "outputs": [
    {
     "name": "stdout",
     "output_type": "stream",
     "text": [
      "On the Republic day every year, a parade is conducted by the Indian army, navy, and soldiers of India at the India Gate.\n",
      "\n",
      "Item no.: 1 --> Item name = On the Republic day every year\n",
      "Evaluating...\n",
      "Starting Download...\n",
      "Image URL: http://c8.alamy.com/comp/M18KBA/kolkata-india-26th-jan-2018-kolkata-celebrate-69th-republic-day-every-M18KBA.jpg\n",
      "Completed Image ====> 1. kolkata-india-26th-jan-2018-kolkata-celebrate-69th-republic-day-every-m18kba.jpg\n",
      "Image URL: https://images.indianexpress.com/2017/01/republic-day-7591.jpg\n",
      "Completed Image ====> 2. republic-day-7591.jpg\n",
      "\n",
      "Errors: 0\n",
      "\n",
      "\n",
      "Item no.: 2 --> Item name =  a parade is conducted by the Indian army\n",
      "Evaluating...\n",
      "Starting Download...\n",
      "Image URL: https://i.ytimg.com/vi/fi8yrdUk8cc/maxresdefault.jpg\n",
      "Completed Image ====> 1. maxresdefault.jpg\n",
      "Image URL: http://aviation-defence-universe.com/wp-content/uploads/2016/01/10-PARA-Marching-Contingent-during-Army-Day-Parade-on-15-Jan-16.jpg\n",
      "Completed Image ====> 2. 10-para-marching-contingent-during-army-day-parade-on-15-jan-16.jpg\n",
      "\n",
      "Errors: 0\n",
      "\n",
      "\n",
      "Item no.: 3 --> Item name =  navy\n",
      "Evaluating...\n",
      "Starting Download...\n",
      "Image URL: https://www.joinindiannavy.gov.in/images/login-bg.jpg\n",
      "Completed Image ====> 1. login-bg.jpg\n",
      "Image URL: https://www.navy.com/sites/default/files/2018-07/hero-bonus-enlistment-landing.jpg\n",
      "Completed Image ====> 2. hero-bonus-enlistment-landing.jpg\n",
      "\n",
      "Errors: 0\n",
      "\n",
      "\n",
      "Item no.: 4 --> Item name =  and soldiers of India at the India Gate.\n",
      "Evaluating...\n",
      "Starting Download...\n",
      "Image URL: https://upload.wikimedia.org/wikipedia/commons/thumb/0/09/India_Gate_in_New_Delhi_03-2016.jpg/230px-India_Gate_in_New_Delhi_03-2016.jpg\n",
      "Completed Image ====> 1. 230px-india_gate_in_new_delhi_03-2016.jpg\n",
      "Image URL: https://www.travelogyindia.com/images/delhi/india-gate-600x436-2.jpg\n",
      "Completed Image ====> 2. india-gate-600x436-2.jpg\n",
      "\n",
      "Errors: 0\n",
      "\n",
      "During the parade, one can appreciate the diverse cultural heritage of India, as many people from all over the country participate in it.\n",
      "\n",
      "Item no.: 1 --> Item name = During the parade\n",
      "Evaluating...\n",
      "Starting Download...\n",
      "Image URL: https://upload.wikimedia.org/wikipedia/commons/b/b9/Soldiers_during_the_parade.jpg\n",
      "Completed Image ====> 1. soldiers_during_the_parade.jpg\n",
      "Image URL: https://www.thehindubusinessline.com/news/world/zggxt8/article25015239.ece/alternates/LANDSCAPE_435/IRAN-MILITARYATTACK\n",
      "Completed Image ====> 2. iran-militaryattack.jpg\n",
      "\n",
      "Errors: 0\n",
      "\n",
      "\n",
      "Item no.: 2 --> Item name =  one can appreciate the diverse cultural heritage of India\n",
      "Evaluating...\n",
      "Starting Download...\n",
      "Image URL: https://image.slidesharecdn.com/culturalheritage-130928143509-phpapp02/95/cultural-heritage-its-importance-1-638.jpg?cb=1380379009\n",
      "Completed Image ====> 1. cultural-heritage-its-importance-1-638.jpg\n",
      "Image URL: https://study.com/cimages/videopreview/videopreview-full/2_cultural_diversity_in_the_workplace_definition_trends_and_examples_113446.jpg\n",
      "Completed Image ====> 2. 2_cultural_diversity_in_the_workplace_definition_trends_and_examples_113446.jpg\n",
      "\n",
      "Errors: 0\n",
      "\n",
      "\n",
      "Item no.: 3 --> Item name =  as many people from all over the country participate in it.\n",
      "Evaluating...\n",
      "Starting Download...\n",
      "Image URL: https://upload.wikimedia.org/wikipedia/commons/6/60/WiViVi_panel_breakdown_by_country_for_Portuguese.png\n",
      "Completed Image ====> 1. wivivi_panel_breakdown_by_country_for_portuguese.png\n",
      "Image URL: https://miepvonsydow.files.wordpress.com/2014/09/cxl7zzc.png\n",
      "Completed Image ====> 2. cxl7zzc.png\n",
      "\n",
      "Errors: 0\n",
      "\n",
      "A perpetual flame is lit at the bottom, to pay tribute to the soldiers who gave their life for the nation and remain unknown.\n",
      "\n",
      "Item no.: 1 --> Item name = A perpetual flame is lit at the bottom\n",
      "Evaluating...\n",
      "Starting Download...\n",
      "Image URL: https://media.mnn.com/assets/images/2014/08/door-to-hell.jpg\n",
      "Completed Image ====> 1. door-to-hell.jpg\n",
      "Image URL: http://nyfalls.com/dev/wp-content/uploads/2013/02/Eternal-Flame-Falls-Gallery-01.jpg\n",
      "Completed Image ====> 2. eternal-flame-falls-gallery-01.jpg\n",
      "\n",
      "Errors: 0\n",
      "\n",
      "\n",
      "Item no.: 2 --> Item name =  to pay tribute to the soldiers who gave their life for the nation and remain unknown.\n",
      "Evaluating...\n",
      "Starting Download...\n",
      "Image URL: http://www.todayifoundout.com/wp-content/uploads/2015/03/tomb-of-the-unkonwn-soldier.jpg\n",
      "Completed Image ====> 1. tomb-of-the-unkonwn-soldier.jpg\n",
      "Image URL: https://timedotcom.files.wordpress.com/2017/05/gettyimages-689772658.jpg\n",
      "Completed Image ====> 2. gettyimages-689772658.jpg\n",
      "\n",
      "Errors: 0\n",
      "\n",
      "Latest advancement of defense technology is displayed on this occasion, and many people are awarded for their bravery towards the nation.\n",
      "\n",
      "Item no.: 1 --> Item name = Latest advancement of defense technology is displayed on this occasion\n",
      "Evaluating...\n",
      "Starting Download...\n",
      "Image URL: https://cdn.britannica.com/s:300x300/35/122235-004-86B1F2BB.jpg\n",
      "Completed Image ====> 1. 122235-004-86b1f2bb.jpg\n",
      "Image URL: https://i1.rgstatic.net/publication/228664413_Defence_procurement_and_industry_development_Some_lessons_from_Australia/links/555b9e3d08ae8f66f3ad7c19/largepreview.png\n",
      "Completed Image ====> 2. largepreview.png\n",
      "\n",
      "Errors: 0\n",
      "\n",
      "\n",
      "Item no.: 2 --> Item name =  and many people are awarded for their bravery towards the nation.\n",
      "Evaluating...\n",
      "Starting Download...\n",
      "Image URL: https://www.thebetterindia.com/wp-content/uploads/2016/01/bravery19.jpg\n",
      "Completed Image ====> 1. bravery19.jpg\n",
      "Image URL: https://www.thebetterindia.com/wp-content/uploads/2016/01/bravery11.jpg\n",
      "Completed Image ====> 2. bravery11.jpg\n",
      "\n",
      "Errors: 0\n",
      "\n",
      "It is a lovely picnic place because of the children park, boat club and the cold breeze of the fountain.\n",
      "\n",
      "Item no.: 1 --> Item name = It is a lovely picnic place because of the children park\n",
      "Evaluating...\n",
      "Starting Download...\n",
      "Image URL: https://scotland.forestry.gov.uk/images/recreationimages/recotherimages/family-picnic-table.jpg\n",
      "Completed Image ====> 1. family-picnic-table.jpg\n",
      "Image URL: https://media-cdn.tripadvisor.com/media/photo-s/14/17/d1/40/clean-safe-easy-great.jpg\n",
      "Completed Image ====> 2. clean-safe-easy-great.jpg\n",
      "\n",
      "Errors: 0\n",
      "\n",
      "\n",
      "Item no.: 2 --> Item name =  boat club and the cold breeze of the fountain.\n",
      "Evaluating...\n",
      "Starting Download...\n",
      "Image URL: https://image.isu.pub/181024205550-85dd2545ae6f443b5c0d4f134ca242f6/jpg/page_1.jpg\n",
      "Completed Image ====> 1. page_1.jpg\n",
      "Image URL: https://iceboats.files.wordpress.com/2018/04/img_0430.jpeg\n",
      "Completed Image ====> 2. img_0430.jpeg\n",
      "\n",
      "Errors: 0\n",
      "\n",
      "The view around India Gate is beautiful, and one can see Rashtrapati Bhawan standing majestically in the vicinity of the India Gate.\n",
      "\n",
      "Item no.: 1 --> Item name = The view around India Gate is beautiful\n",
      "Evaluating...\n",
      "Starting Download...\n",
      "Image URL: https://c8.alamy.com/comp/MDW0DR/india-gate-memorial-in-delhi-in-india-a-war-memorial-on-rajpath-road-beautiful-view-of-main-indian-historical-landmark-in-the-background-of-the-clou-MDW0DR.jpg\n",
      "Completed Image ====> 1. india-gate-memorial-in-delhi-in-india-a-war-memorial-on-rajpath-road-beautiful-view-of-main-indian-historical-landmark-in-the-background-of-the-clou-mdw0dr.jpg\n",
      "Image URL: http://3.bp.blogspot.com/-xCaB1OGIf_U/Tsy3RvIpXwI/AAAAAAAAAAo/R-6mDi7Sjl0/s1600/Picture1.jpg\n",
      "Completed Image ====> 2. picture1.jpg\n",
      "\n",
      "Errors: 0\n",
      "\n",
      "\n",
      "Item no.: 2 --> Item name =  and one can see Rashtrapati Bhawan standing majestically in the vicinity of the India Gate.\n",
      "Evaluating...\n",
      "Starting Download...\n",
      "Image URL: https://cdn3.mycity4kids.com/images/article-images/web/headersV2/img-20160911-57d5b8dfddadb.jpg\n",
      "Completed Image ====> 1. img-20160911-57d5b8dfddadb.jpg\n",
      "Image URL: https://travelskhana.files.wordpress.com/2016/03/nearest-metro-station-to-india-gate.jpg\n",
      "Completed Image ====> 2. nearest-metro-station-to-india-gate.jpg\n",
      "\n",
      "Errors: 0\n",
      "\n",
      "At the bottom of India Gate, there is another monument known as Amar Jawan Jyoti.\n",
      "\n",
      "Item no.: 1 --> Item name = At the bottom of India Gate\n",
      "Evaluating...\n",
      "Starting Download...\n",
      "Image URL: https://i.ytimg.com/vi/3-sNDrdQ1yI/maxresdefault.jpg\n",
      "Completed Image ====> 1. maxresdefault.jpg\n",
      "Image URL: https://image.shutterstock.com/image-photo/image-arch-all-india-war-450w-1103935256.jpg\n",
      "Completed Image ====> 2. image-arch-all-india-war-450w-1103935256.jpg\n",
      "\n",
      "Errors: 0\n",
      "\n",
      "\n",
      "Item no.: 2 --> Item name =  there is another monument known as Amar Jawan Jyoti.\n",
      "Evaluating...\n",
      "Starting Download...\n",
      "Image URL: https://upload.wikimedia.org/wikipedia/commons/thumb/5/51/Amar_Jawan_Jyoti.jpg/1200px-Amar_Jawan_Jyoti.jpg\n",
      "Completed Image ====> 1. 1200px-amar_jawan_jyoti.jpg\n",
      "Image URL: https://c8.alamy.com/comp/DGYF2Y/amar-jawan-jyoti-india-gate-all-india-war-memorial-by-sir-edwin-lutyens-DGYF2Y.jpg\n",
      "Completed Image ====> 2. amar-jawan-jyoti-india-gate-all-india-war-memorial-by-sir-edwin-lutyens-dgyf2y.jpg\n",
      "\n",
      "Errors: 0\n",
      "\n"
     ]
    }
   ],
   "source": [
    "import urllib\n",
    "my_set = {}\n",
    "#If you are calling this library from another python file, below is the sample code\n",
    "\n",
    "from google_images_download import google_images_download   #importing the library\n",
    "\n",
    "response = google_images_download.googleimagesdownload()   #class instantiation\n",
    "i=0\n",
    "while i < len(summary_sent):\n",
    "    arguments = {\"keywords\":summary_sent[i],\"limit\":2,\"print_urls\":True}   #creating list of arguments\n",
    "    print(summary_sent[i])\n",
    "\n",
    "    paths = response.download(arguments)   #passing the arguments to the function\n",
    "    my_set.update(paths)\n",
    "   \n",
    "    #print(paths)\n",
    "    i += 1\n"
   ]
  },
  {
   "cell_type": "code",
   "execution_count": 145,
   "metadata": {},
   "outputs": [
    {
     "data": {
      "text/plain": [
       "{'On the Republic day every year': ['C:\\\\Users\\\\Microsoft-PC\\\\Desktop\\\\LeadingIndia\\\\downloads\\\\On the Republic day every year\\\\1. kolkata-india-26th-jan-2018-kolkata-celebrate-69th-republic-day-every-m18kba.jpg',\n",
       "  'C:\\\\Users\\\\Microsoft-PC\\\\Desktop\\\\LeadingIndia\\\\downloads\\\\On the Republic day every year\\\\2. republic-day-7591.jpg'],\n",
       " ' a parade is conducted by the Indian army': ['C:\\\\Users\\\\Microsoft-PC\\\\Desktop\\\\LeadingIndia\\\\downloads\\\\ a parade is conducted by the Indian army\\\\1. maxresdefault.jpg',\n",
       "  'C:\\\\Users\\\\Microsoft-PC\\\\Desktop\\\\LeadingIndia\\\\downloads\\\\ a parade is conducted by the Indian army\\\\2. 10-para-marching-contingent-during-army-day-parade-on-15-jan-16.jpg'],\n",
       " ' navy': ['C:\\\\Users\\\\Microsoft-PC\\\\Desktop\\\\LeadingIndia\\\\downloads\\\\ navy\\\\1. login-bg.jpg',\n",
       "  'C:\\\\Users\\\\Microsoft-PC\\\\Desktop\\\\LeadingIndia\\\\downloads\\\\ navy\\\\2. hero-bonus-enlistment-landing.jpg'],\n",
       " ' and soldiers of India at the India Gate.': ['C:\\\\Users\\\\Microsoft-PC\\\\Desktop\\\\LeadingIndia\\\\downloads\\\\ and soldiers of India at the India Gate\\\\1. 230px-india_gate_in_new_delhi_03-2016.jpg',\n",
       "  'C:\\\\Users\\\\Microsoft-PC\\\\Desktop\\\\LeadingIndia\\\\downloads\\\\ and soldiers of India at the India Gate\\\\2. india-gate-600x436-2.jpg'],\n",
       " 'During the parade': ['C:\\\\Users\\\\Microsoft-PC\\\\Desktop\\\\LeadingIndia\\\\downloads\\\\During the parade\\\\1. soldiers_during_the_parade.jpg',\n",
       "  'C:\\\\Users\\\\Microsoft-PC\\\\Desktop\\\\LeadingIndia\\\\downloads\\\\During the parade\\\\2. iran-militaryattack.jpg'],\n",
       " ' one can appreciate the diverse cultural heritage of India': ['C:\\\\Users\\\\Microsoft-PC\\\\Desktop\\\\LeadingIndia\\\\downloads\\\\ one can appreciate the diverse cultural heritage of India\\\\1. cultural-heritage-its-importance-1-638.jpg',\n",
       "  'C:\\\\Users\\\\Microsoft-PC\\\\Desktop\\\\LeadingIndia\\\\downloads\\\\ one can appreciate the diverse cultural heritage of India\\\\2. 2_cultural_diversity_in_the_workplace_definition_trends_and_examples_113446.jpg'],\n",
       " ' as many people from all over the country participate in it.': ['C:\\\\Users\\\\Microsoft-PC\\\\Desktop\\\\LeadingIndia\\\\downloads\\\\ as many people from all over the country participate in it\\\\1. wivivi_panel_breakdown_by_country_for_portuguese.png',\n",
       "  'C:\\\\Users\\\\Microsoft-PC\\\\Desktop\\\\LeadingIndia\\\\downloads\\\\ as many people from all over the country participate in it\\\\2. cxl7zzc.png'],\n",
       " 'A perpetual flame is lit at the bottom': ['C:\\\\Users\\\\Microsoft-PC\\\\Desktop\\\\LeadingIndia\\\\downloads\\\\A perpetual flame is lit at the bottom\\\\1. door-to-hell.jpg',\n",
       "  'C:\\\\Users\\\\Microsoft-PC\\\\Desktop\\\\LeadingIndia\\\\downloads\\\\A perpetual flame is lit at the bottom\\\\2. eternal-flame-falls-gallery-01.jpg'],\n",
       " ' to pay tribute to the soldiers who gave their life for the nation and remain unknown.': ['C:\\\\Users\\\\Microsoft-PC\\\\Desktop\\\\LeadingIndia\\\\downloads\\\\ to pay tribute to the soldiers who gave their life for the nation and remain unknown\\\\1. tomb-of-the-unkonwn-soldier.jpg',\n",
       "  'C:\\\\Users\\\\Microsoft-PC\\\\Desktop\\\\LeadingIndia\\\\downloads\\\\ to pay tribute to the soldiers who gave their life for the nation and remain unknown\\\\2. gettyimages-689772658.jpg'],\n",
       " 'Latest advancement of defense technology is displayed on this occasion': ['C:\\\\Users\\\\Microsoft-PC\\\\Desktop\\\\LeadingIndia\\\\downloads\\\\Latest advancement of defense technology is displayed on this occasion\\\\1. 122235-004-86b1f2bb.jpg',\n",
       "  'C:\\\\Users\\\\Microsoft-PC\\\\Desktop\\\\LeadingIndia\\\\downloads\\\\Latest advancement of defense technology is displayed on this occasion\\\\2. largepreview.png'],\n",
       " ' and many people are awarded for their bravery towards the nation.': ['C:\\\\Users\\\\Microsoft-PC\\\\Desktop\\\\LeadingIndia\\\\downloads\\\\ and many people are awarded for their bravery towards the nation\\\\1. bravery19.jpg',\n",
       "  'C:\\\\Users\\\\Microsoft-PC\\\\Desktop\\\\LeadingIndia\\\\downloads\\\\ and many people are awarded for their bravery towards the nation\\\\2. bravery11.jpg'],\n",
       " 'It is a lovely picnic place because of the children park': ['C:\\\\Users\\\\Microsoft-PC\\\\Desktop\\\\LeadingIndia\\\\downloads\\\\It is a lovely picnic place because of the children park\\\\1. family-picnic-table.jpg',\n",
       "  'C:\\\\Users\\\\Microsoft-PC\\\\Desktop\\\\LeadingIndia\\\\downloads\\\\It is a lovely picnic place because of the children park\\\\2. clean-safe-easy-great.jpg'],\n",
       " ' boat club and the cold breeze of the fountain.': ['C:\\\\Users\\\\Microsoft-PC\\\\Desktop\\\\LeadingIndia\\\\downloads\\\\ boat club and the cold breeze of the fountain\\\\1. page_1.jpg',\n",
       "  'C:\\\\Users\\\\Microsoft-PC\\\\Desktop\\\\LeadingIndia\\\\downloads\\\\ boat club and the cold breeze of the fountain\\\\2. img_0430.jpeg'],\n",
       " 'The view around India Gate is beautiful': ['C:\\\\Users\\\\Microsoft-PC\\\\Desktop\\\\LeadingIndia\\\\downloads\\\\The view around India Gate is beautiful\\\\1. india-gate-memorial-in-delhi-in-india-a-war-memorial-on-rajpath-road-beautiful-view-of-main-indian-historical-landmark-in-the-background-of-the-clou-mdw0dr.jpg',\n",
       "  'C:\\\\Users\\\\Microsoft-PC\\\\Desktop\\\\LeadingIndia\\\\downloads\\\\The view around India Gate is beautiful\\\\2. picture1.jpg'],\n",
       " ' and one can see Rashtrapati Bhawan standing majestically in the vicinity of the India Gate.': ['C:\\\\Users\\\\Microsoft-PC\\\\Desktop\\\\LeadingIndia\\\\downloads\\\\ and one can see Rashtrapati Bhawan standing majestically in the vicinity of the India Gate\\\\1. img-20160911-57d5b8dfddadb.jpg',\n",
       "  'C:\\\\Users\\\\Microsoft-PC\\\\Desktop\\\\LeadingIndia\\\\downloads\\\\ and one can see Rashtrapati Bhawan standing majestically in the vicinity of the India Gate\\\\2. nearest-metro-station-to-india-gate.jpg'],\n",
       " 'At the bottom of India Gate': ['C:\\\\Users\\\\Microsoft-PC\\\\Desktop\\\\LeadingIndia\\\\downloads\\\\At the bottom of India Gate\\\\1. maxresdefault.jpg',\n",
       "  'C:\\\\Users\\\\Microsoft-PC\\\\Desktop\\\\LeadingIndia\\\\downloads\\\\At the bottom of India Gate\\\\2. image-arch-all-india-war-450w-1103935256.jpg'],\n",
       " ' there is another monument known as Amar Jawan Jyoti.': ['C:\\\\Users\\\\Microsoft-PC\\\\Desktop\\\\LeadingIndia\\\\downloads\\\\ there is another monument known as Amar Jawan Jyoti\\\\1. 1200px-amar_jawan_jyoti.jpg',\n",
       "  'C:\\\\Users\\\\Microsoft-PC\\\\Desktop\\\\LeadingIndia\\\\downloads\\\\ there is another monument known as Amar Jawan Jyoti\\\\2. amar-jawan-jyoti-india-gate-all-india-war-memorial-by-sir-edwin-lutyens-dgyf2y.jpg']}"
      ]
     },
     "execution_count": 145,
     "metadata": {},
     "output_type": "execute_result"
    }
   ],
   "source": [
    "my_set"
   ]
  },
  {
   "cell_type": "code",
   "execution_count": 146,
   "metadata": {
    "collapsed": true
   },
   "outputs": [],
   "source": [
    "all_paths=list(my_set.values())\n",
    "flat_list=[]"
   ]
  },
  {
   "cell_type": "code",
   "execution_count": 147,
   "metadata": {
    "collapsed": true
   },
   "outputs": [],
   "source": [
    "for sublist in all_paths:\n",
    "    for item in sublist:\n",
    "        flat_list.append(item)"
   ]
  },
  {
   "cell_type": "code",
   "execution_count": 148,
   "metadata": {},
   "outputs": [
    {
     "data": {
      "text/plain": [
       "['C:\\\\Users\\\\Microsoft-PC\\\\Desktop\\\\LeadingIndia\\\\downloads\\\\On the Republic day every year\\\\1. kolkata-india-26th-jan-2018-kolkata-celebrate-69th-republic-day-every-m18kba.jpg',\n",
       " 'C:\\\\Users\\\\Microsoft-PC\\\\Desktop\\\\LeadingIndia\\\\downloads\\\\On the Republic day every year\\\\2. republic-day-7591.jpg',\n",
       " 'C:\\\\Users\\\\Microsoft-PC\\\\Desktop\\\\LeadingIndia\\\\downloads\\\\ a parade is conducted by the Indian army\\\\1. maxresdefault.jpg',\n",
       " 'C:\\\\Users\\\\Microsoft-PC\\\\Desktop\\\\LeadingIndia\\\\downloads\\\\ a parade is conducted by the Indian army\\\\2. 10-para-marching-contingent-during-army-day-parade-on-15-jan-16.jpg',\n",
       " 'C:\\\\Users\\\\Microsoft-PC\\\\Desktop\\\\LeadingIndia\\\\downloads\\\\ navy\\\\1. login-bg.jpg',\n",
       " 'C:\\\\Users\\\\Microsoft-PC\\\\Desktop\\\\LeadingIndia\\\\downloads\\\\ navy\\\\2. hero-bonus-enlistment-landing.jpg',\n",
       " 'C:\\\\Users\\\\Microsoft-PC\\\\Desktop\\\\LeadingIndia\\\\downloads\\\\ and soldiers of India at the India Gate\\\\1. 230px-india_gate_in_new_delhi_03-2016.jpg',\n",
       " 'C:\\\\Users\\\\Microsoft-PC\\\\Desktop\\\\LeadingIndia\\\\downloads\\\\ and soldiers of India at the India Gate\\\\2. india-gate-600x436-2.jpg',\n",
       " 'C:\\\\Users\\\\Microsoft-PC\\\\Desktop\\\\LeadingIndia\\\\downloads\\\\During the parade\\\\1. soldiers_during_the_parade.jpg',\n",
       " 'C:\\\\Users\\\\Microsoft-PC\\\\Desktop\\\\LeadingIndia\\\\downloads\\\\During the parade\\\\2. iran-militaryattack.jpg',\n",
       " 'C:\\\\Users\\\\Microsoft-PC\\\\Desktop\\\\LeadingIndia\\\\downloads\\\\ one can appreciate the diverse cultural heritage of India\\\\1. cultural-heritage-its-importance-1-638.jpg',\n",
       " 'C:\\\\Users\\\\Microsoft-PC\\\\Desktop\\\\LeadingIndia\\\\downloads\\\\ one can appreciate the diverse cultural heritage of India\\\\2. 2_cultural_diversity_in_the_workplace_definition_trends_and_examples_113446.jpg',\n",
       " 'C:\\\\Users\\\\Microsoft-PC\\\\Desktop\\\\LeadingIndia\\\\downloads\\\\ as many people from all over the country participate in it\\\\1. wivivi_panel_breakdown_by_country_for_portuguese.png',\n",
       " 'C:\\\\Users\\\\Microsoft-PC\\\\Desktop\\\\LeadingIndia\\\\downloads\\\\ as many people from all over the country participate in it\\\\2. cxl7zzc.png',\n",
       " 'C:\\\\Users\\\\Microsoft-PC\\\\Desktop\\\\LeadingIndia\\\\downloads\\\\A perpetual flame is lit at the bottom\\\\1. door-to-hell.jpg',\n",
       " 'C:\\\\Users\\\\Microsoft-PC\\\\Desktop\\\\LeadingIndia\\\\downloads\\\\A perpetual flame is lit at the bottom\\\\2. eternal-flame-falls-gallery-01.jpg',\n",
       " 'C:\\\\Users\\\\Microsoft-PC\\\\Desktop\\\\LeadingIndia\\\\downloads\\\\ to pay tribute to the soldiers who gave their life for the nation and remain unknown\\\\1. tomb-of-the-unkonwn-soldier.jpg',\n",
       " 'C:\\\\Users\\\\Microsoft-PC\\\\Desktop\\\\LeadingIndia\\\\downloads\\\\ to pay tribute to the soldiers who gave their life for the nation and remain unknown\\\\2. gettyimages-689772658.jpg',\n",
       " 'C:\\\\Users\\\\Microsoft-PC\\\\Desktop\\\\LeadingIndia\\\\downloads\\\\Latest advancement of defense technology is displayed on this occasion\\\\1. 122235-004-86b1f2bb.jpg',\n",
       " 'C:\\\\Users\\\\Microsoft-PC\\\\Desktop\\\\LeadingIndia\\\\downloads\\\\Latest advancement of defense technology is displayed on this occasion\\\\2. largepreview.png',\n",
       " 'C:\\\\Users\\\\Microsoft-PC\\\\Desktop\\\\LeadingIndia\\\\downloads\\\\ and many people are awarded for their bravery towards the nation\\\\1. bravery19.jpg',\n",
       " 'C:\\\\Users\\\\Microsoft-PC\\\\Desktop\\\\LeadingIndia\\\\downloads\\\\ and many people are awarded for their bravery towards the nation\\\\2. bravery11.jpg',\n",
       " 'C:\\\\Users\\\\Microsoft-PC\\\\Desktop\\\\LeadingIndia\\\\downloads\\\\It is a lovely picnic place because of the children park\\\\1. family-picnic-table.jpg',\n",
       " 'C:\\\\Users\\\\Microsoft-PC\\\\Desktop\\\\LeadingIndia\\\\downloads\\\\It is a lovely picnic place because of the children park\\\\2. clean-safe-easy-great.jpg',\n",
       " 'C:\\\\Users\\\\Microsoft-PC\\\\Desktop\\\\LeadingIndia\\\\downloads\\\\ boat club and the cold breeze of the fountain\\\\1. page_1.jpg',\n",
       " 'C:\\\\Users\\\\Microsoft-PC\\\\Desktop\\\\LeadingIndia\\\\downloads\\\\ boat club and the cold breeze of the fountain\\\\2. img_0430.jpeg',\n",
       " 'C:\\\\Users\\\\Microsoft-PC\\\\Desktop\\\\LeadingIndia\\\\downloads\\\\The view around India Gate is beautiful\\\\1. india-gate-memorial-in-delhi-in-india-a-war-memorial-on-rajpath-road-beautiful-view-of-main-indian-historical-landmark-in-the-background-of-the-clou-mdw0dr.jpg',\n",
       " 'C:\\\\Users\\\\Microsoft-PC\\\\Desktop\\\\LeadingIndia\\\\downloads\\\\The view around India Gate is beautiful\\\\2. picture1.jpg',\n",
       " 'C:\\\\Users\\\\Microsoft-PC\\\\Desktop\\\\LeadingIndia\\\\downloads\\\\ and one can see Rashtrapati Bhawan standing majestically in the vicinity of the India Gate\\\\1. img-20160911-57d5b8dfddadb.jpg',\n",
       " 'C:\\\\Users\\\\Microsoft-PC\\\\Desktop\\\\LeadingIndia\\\\downloads\\\\ and one can see Rashtrapati Bhawan standing majestically in the vicinity of the India Gate\\\\2. nearest-metro-station-to-india-gate.jpg',\n",
       " 'C:\\\\Users\\\\Microsoft-PC\\\\Desktop\\\\LeadingIndia\\\\downloads\\\\At the bottom of India Gate\\\\1. maxresdefault.jpg',\n",
       " 'C:\\\\Users\\\\Microsoft-PC\\\\Desktop\\\\LeadingIndia\\\\downloads\\\\At the bottom of India Gate\\\\2. image-arch-all-india-war-450w-1103935256.jpg',\n",
       " 'C:\\\\Users\\\\Microsoft-PC\\\\Desktop\\\\LeadingIndia\\\\downloads\\\\ there is another monument known as Amar Jawan Jyoti\\\\1. 1200px-amar_jawan_jyoti.jpg',\n",
       " 'C:\\\\Users\\\\Microsoft-PC\\\\Desktop\\\\LeadingIndia\\\\downloads\\\\ there is another monument known as Amar Jawan Jyoti\\\\2. amar-jawan-jyoti-india-gate-all-india-war-memorial-by-sir-edwin-lutyens-dgyf2y.jpg']"
      ]
     },
     "execution_count": 148,
     "metadata": {},
     "output_type": "execute_result"
    }
   ],
   "source": [
    "flat_list"
   ]
  },
  {
   "cell_type": "code",
   "execution_count": 149,
   "metadata": {
    "collapsed": true
   },
   "outputs": [],
   "source": [
    "sub1 = '.png'\n",
    "impng=[]\n",
    "for text in flat_list:\n",
    "    if sub1 in text:\n",
    "        impng.append(text)\n",
    "    "
   ]
  },
  {
   "cell_type": "code",
   "execution_count": 150,
   "metadata": {},
   "outputs": [
    {
     "data": {
      "text/plain": [
       "['C:\\\\Users\\\\Microsoft-PC\\\\Desktop\\\\LeadingIndia\\\\downloads\\\\ as many people from all over the country participate in it\\\\1. wivivi_panel_breakdown_by_country_for_portuguese.png',\n",
       " 'C:\\\\Users\\\\Microsoft-PC\\\\Desktop\\\\LeadingIndia\\\\downloads\\\\ as many people from all over the country participate in it\\\\2. cxl7zzc.png',\n",
       " 'C:\\\\Users\\\\Microsoft-PC\\\\Desktop\\\\LeadingIndia\\\\downloads\\\\Latest advancement of defense technology is displayed on this occasion\\\\2. largepreview.png']"
      ]
     },
     "execution_count": 150,
     "metadata": {},
     "output_type": "execute_result"
    }
   ],
   "source": [
    "impng"
   ]
  },
  {
   "cell_type": "code",
   "execution_count": 151,
   "metadata": {
    "collapsed": true
   },
   "outputs": [],
   "source": [
    "sub2 = '.jpg'\n",
    "imjpg=[]\n",
    "for text in flat_list:\n",
    "    if sub2 in text:\n",
    "        imjpg.append(text)\n",
    "    "
   ]
  },
  {
   "cell_type": "code",
   "execution_count": 152,
   "metadata": {},
   "outputs": [
    {
     "data": {
      "text/plain": [
       "['C:\\\\Users\\\\Microsoft-PC\\\\Desktop\\\\LeadingIndia\\\\downloads\\\\On the Republic day every year\\\\1. kolkata-india-26th-jan-2018-kolkata-celebrate-69th-republic-day-every-m18kba.jpg',\n",
       " 'C:\\\\Users\\\\Microsoft-PC\\\\Desktop\\\\LeadingIndia\\\\downloads\\\\On the Republic day every year\\\\2. republic-day-7591.jpg',\n",
       " 'C:\\\\Users\\\\Microsoft-PC\\\\Desktop\\\\LeadingIndia\\\\downloads\\\\ a parade is conducted by the Indian army\\\\1. maxresdefault.jpg',\n",
       " 'C:\\\\Users\\\\Microsoft-PC\\\\Desktop\\\\LeadingIndia\\\\downloads\\\\ a parade is conducted by the Indian army\\\\2. 10-para-marching-contingent-during-army-day-parade-on-15-jan-16.jpg',\n",
       " 'C:\\\\Users\\\\Microsoft-PC\\\\Desktop\\\\LeadingIndia\\\\downloads\\\\ navy\\\\1. login-bg.jpg',\n",
       " 'C:\\\\Users\\\\Microsoft-PC\\\\Desktop\\\\LeadingIndia\\\\downloads\\\\ navy\\\\2. hero-bonus-enlistment-landing.jpg',\n",
       " 'C:\\\\Users\\\\Microsoft-PC\\\\Desktop\\\\LeadingIndia\\\\downloads\\\\ and soldiers of India at the India Gate\\\\1. 230px-india_gate_in_new_delhi_03-2016.jpg',\n",
       " 'C:\\\\Users\\\\Microsoft-PC\\\\Desktop\\\\LeadingIndia\\\\downloads\\\\ and soldiers of India at the India Gate\\\\2. india-gate-600x436-2.jpg',\n",
       " 'C:\\\\Users\\\\Microsoft-PC\\\\Desktop\\\\LeadingIndia\\\\downloads\\\\During the parade\\\\1. soldiers_during_the_parade.jpg',\n",
       " 'C:\\\\Users\\\\Microsoft-PC\\\\Desktop\\\\LeadingIndia\\\\downloads\\\\During the parade\\\\2. iran-militaryattack.jpg',\n",
       " 'C:\\\\Users\\\\Microsoft-PC\\\\Desktop\\\\LeadingIndia\\\\downloads\\\\ one can appreciate the diverse cultural heritage of India\\\\1. cultural-heritage-its-importance-1-638.jpg',\n",
       " 'C:\\\\Users\\\\Microsoft-PC\\\\Desktop\\\\LeadingIndia\\\\downloads\\\\ one can appreciate the diverse cultural heritage of India\\\\2. 2_cultural_diversity_in_the_workplace_definition_trends_and_examples_113446.jpg',\n",
       " 'C:\\\\Users\\\\Microsoft-PC\\\\Desktop\\\\LeadingIndia\\\\downloads\\\\A perpetual flame is lit at the bottom\\\\1. door-to-hell.jpg',\n",
       " 'C:\\\\Users\\\\Microsoft-PC\\\\Desktop\\\\LeadingIndia\\\\downloads\\\\A perpetual flame is lit at the bottom\\\\2. eternal-flame-falls-gallery-01.jpg',\n",
       " 'C:\\\\Users\\\\Microsoft-PC\\\\Desktop\\\\LeadingIndia\\\\downloads\\\\ to pay tribute to the soldiers who gave their life for the nation and remain unknown\\\\1. tomb-of-the-unkonwn-soldier.jpg',\n",
       " 'C:\\\\Users\\\\Microsoft-PC\\\\Desktop\\\\LeadingIndia\\\\downloads\\\\ to pay tribute to the soldiers who gave their life for the nation and remain unknown\\\\2. gettyimages-689772658.jpg',\n",
       " 'C:\\\\Users\\\\Microsoft-PC\\\\Desktop\\\\LeadingIndia\\\\downloads\\\\Latest advancement of defense technology is displayed on this occasion\\\\1. 122235-004-86b1f2bb.jpg',\n",
       " 'C:\\\\Users\\\\Microsoft-PC\\\\Desktop\\\\LeadingIndia\\\\downloads\\\\ and many people are awarded for their bravery towards the nation\\\\1. bravery19.jpg',\n",
       " 'C:\\\\Users\\\\Microsoft-PC\\\\Desktop\\\\LeadingIndia\\\\downloads\\\\ and many people are awarded for their bravery towards the nation\\\\2. bravery11.jpg',\n",
       " 'C:\\\\Users\\\\Microsoft-PC\\\\Desktop\\\\LeadingIndia\\\\downloads\\\\It is a lovely picnic place because of the children park\\\\1. family-picnic-table.jpg',\n",
       " 'C:\\\\Users\\\\Microsoft-PC\\\\Desktop\\\\LeadingIndia\\\\downloads\\\\It is a lovely picnic place because of the children park\\\\2. clean-safe-easy-great.jpg',\n",
       " 'C:\\\\Users\\\\Microsoft-PC\\\\Desktop\\\\LeadingIndia\\\\downloads\\\\ boat club and the cold breeze of the fountain\\\\1. page_1.jpg',\n",
       " 'C:\\\\Users\\\\Microsoft-PC\\\\Desktop\\\\LeadingIndia\\\\downloads\\\\The view around India Gate is beautiful\\\\1. india-gate-memorial-in-delhi-in-india-a-war-memorial-on-rajpath-road-beautiful-view-of-main-indian-historical-landmark-in-the-background-of-the-clou-mdw0dr.jpg',\n",
       " 'C:\\\\Users\\\\Microsoft-PC\\\\Desktop\\\\LeadingIndia\\\\downloads\\\\The view around India Gate is beautiful\\\\2. picture1.jpg',\n",
       " 'C:\\\\Users\\\\Microsoft-PC\\\\Desktop\\\\LeadingIndia\\\\downloads\\\\ and one can see Rashtrapati Bhawan standing majestically in the vicinity of the India Gate\\\\1. img-20160911-57d5b8dfddadb.jpg',\n",
       " 'C:\\\\Users\\\\Microsoft-PC\\\\Desktop\\\\LeadingIndia\\\\downloads\\\\ and one can see Rashtrapati Bhawan standing majestically in the vicinity of the India Gate\\\\2. nearest-metro-station-to-india-gate.jpg',\n",
       " 'C:\\\\Users\\\\Microsoft-PC\\\\Desktop\\\\LeadingIndia\\\\downloads\\\\At the bottom of India Gate\\\\1. maxresdefault.jpg',\n",
       " 'C:\\\\Users\\\\Microsoft-PC\\\\Desktop\\\\LeadingIndia\\\\downloads\\\\At the bottom of India Gate\\\\2. image-arch-all-india-war-450w-1103935256.jpg',\n",
       " 'C:\\\\Users\\\\Microsoft-PC\\\\Desktop\\\\LeadingIndia\\\\downloads\\\\ there is another monument known as Amar Jawan Jyoti\\\\1. 1200px-amar_jawan_jyoti.jpg',\n",
       " 'C:\\\\Users\\\\Microsoft-PC\\\\Desktop\\\\LeadingIndia\\\\downloads\\\\ there is another monument known as Amar Jawan Jyoti\\\\2. amar-jawan-jyoti-india-gate-all-india-war-memorial-by-sir-edwin-lutyens-dgyf2y.jpg']"
      ]
     },
     "execution_count": 152,
     "metadata": {},
     "output_type": "execute_result"
    }
   ],
   "source": [
    "imjpg"
   ]
  },
  {
   "cell_type": "code",
   "execution_count": 153,
   "metadata": {},
   "outputs": [
    {
     "data": {
      "text/plain": [
       "['C:\\\\Users\\\\Microsoft-PC\\\\Desktop\\\\LeadingIndia\\\\downloads\\\\ boat club and the cold breeze of the fountain\\\\2. img_0430.jpeg']"
      ]
     },
     "execution_count": 153,
     "metadata": {},
     "output_type": "execute_result"
    }
   ],
   "source": [
    "sub3 = '.jpeg'\n",
    "imjpeg=[]\n",
    "for text in flat_list:\n",
    "    if sub3 in text:\n",
    "        imjpeg.append(text)\n",
    "imjpeg"
   ]
  },
  {
   "cell_type": "code",
   "execution_count": 154,
   "metadata": {},
   "outputs": [
    {
     "data": {
      "text/plain": [
       "34"
      ]
     },
     "execution_count": 154,
     "metadata": {},
     "output_type": "execute_result"
    }
   ],
   "source": [
    "flat_list=impng+imjpg+imjpeg\n",
    "len(flat_list)"
   ]
  },
  {
   "cell_type": "code",
   "execution_count": 155,
   "metadata": {
    "collapsed": true
   },
   "outputs": [],
   "source": [
    "i=1\n",
    "no=[] \n",
    "#str2='C:\\\\Users\\\\basac\\\\Desktop\\\\leading india workshop\\\\PROJECT\\\\images\\\\'\n",
    "str2='C:\\\\Users\\\\Microsoft-PC\\\\Desktop\\\\LeadingIndia\\\\images\\\\'\n",
    "str1=\".jpg\"\n",
    "while i < len(flat_list):\n",
    "#while i < 5:\n",
    "    no.append('%s%d%s' %(str2,i, str1))\n",
    "    i+=1"
   ]
  },
  {
   "cell_type": "code",
   "execution_count": 156,
   "metadata": {},
   "outputs": [
    {
     "data": {
      "text/plain": [
       "['C:\\\\Users\\\\Microsoft-PC\\\\Desktop\\\\LeadingIndia\\\\images\\\\1.jpg',\n",
       " 'C:\\\\Users\\\\Microsoft-PC\\\\Desktop\\\\LeadingIndia\\\\images\\\\2.jpg',\n",
       " 'C:\\\\Users\\\\Microsoft-PC\\\\Desktop\\\\LeadingIndia\\\\images\\\\3.jpg',\n",
       " 'C:\\\\Users\\\\Microsoft-PC\\\\Desktop\\\\LeadingIndia\\\\images\\\\4.jpg',\n",
       " 'C:\\\\Users\\\\Microsoft-PC\\\\Desktop\\\\LeadingIndia\\\\images\\\\5.jpg',\n",
       " 'C:\\\\Users\\\\Microsoft-PC\\\\Desktop\\\\LeadingIndia\\\\images\\\\6.jpg',\n",
       " 'C:\\\\Users\\\\Microsoft-PC\\\\Desktop\\\\LeadingIndia\\\\images\\\\7.jpg',\n",
       " 'C:\\\\Users\\\\Microsoft-PC\\\\Desktop\\\\LeadingIndia\\\\images\\\\8.jpg',\n",
       " 'C:\\\\Users\\\\Microsoft-PC\\\\Desktop\\\\LeadingIndia\\\\images\\\\9.jpg',\n",
       " 'C:\\\\Users\\\\Microsoft-PC\\\\Desktop\\\\LeadingIndia\\\\images\\\\10.jpg',\n",
       " 'C:\\\\Users\\\\Microsoft-PC\\\\Desktop\\\\LeadingIndia\\\\images\\\\11.jpg',\n",
       " 'C:\\\\Users\\\\Microsoft-PC\\\\Desktop\\\\LeadingIndia\\\\images\\\\12.jpg',\n",
       " 'C:\\\\Users\\\\Microsoft-PC\\\\Desktop\\\\LeadingIndia\\\\images\\\\13.jpg',\n",
       " 'C:\\\\Users\\\\Microsoft-PC\\\\Desktop\\\\LeadingIndia\\\\images\\\\14.jpg',\n",
       " 'C:\\\\Users\\\\Microsoft-PC\\\\Desktop\\\\LeadingIndia\\\\images\\\\15.jpg',\n",
       " 'C:\\\\Users\\\\Microsoft-PC\\\\Desktop\\\\LeadingIndia\\\\images\\\\16.jpg',\n",
       " 'C:\\\\Users\\\\Microsoft-PC\\\\Desktop\\\\LeadingIndia\\\\images\\\\17.jpg',\n",
       " 'C:\\\\Users\\\\Microsoft-PC\\\\Desktop\\\\LeadingIndia\\\\images\\\\18.jpg',\n",
       " 'C:\\\\Users\\\\Microsoft-PC\\\\Desktop\\\\LeadingIndia\\\\images\\\\19.jpg',\n",
       " 'C:\\\\Users\\\\Microsoft-PC\\\\Desktop\\\\LeadingIndia\\\\images\\\\20.jpg',\n",
       " 'C:\\\\Users\\\\Microsoft-PC\\\\Desktop\\\\LeadingIndia\\\\images\\\\21.jpg',\n",
       " 'C:\\\\Users\\\\Microsoft-PC\\\\Desktop\\\\LeadingIndia\\\\images\\\\22.jpg',\n",
       " 'C:\\\\Users\\\\Microsoft-PC\\\\Desktop\\\\LeadingIndia\\\\images\\\\23.jpg',\n",
       " 'C:\\\\Users\\\\Microsoft-PC\\\\Desktop\\\\LeadingIndia\\\\images\\\\24.jpg',\n",
       " 'C:\\\\Users\\\\Microsoft-PC\\\\Desktop\\\\LeadingIndia\\\\images\\\\25.jpg',\n",
       " 'C:\\\\Users\\\\Microsoft-PC\\\\Desktop\\\\LeadingIndia\\\\images\\\\26.jpg',\n",
       " 'C:\\\\Users\\\\Microsoft-PC\\\\Desktop\\\\LeadingIndia\\\\images\\\\27.jpg',\n",
       " 'C:\\\\Users\\\\Microsoft-PC\\\\Desktop\\\\LeadingIndia\\\\images\\\\28.jpg',\n",
       " 'C:\\\\Users\\\\Microsoft-PC\\\\Desktop\\\\LeadingIndia\\\\images\\\\29.jpg',\n",
       " 'C:\\\\Users\\\\Microsoft-PC\\\\Desktop\\\\LeadingIndia\\\\images\\\\30.jpg',\n",
       " 'C:\\\\Users\\\\Microsoft-PC\\\\Desktop\\\\LeadingIndia\\\\images\\\\31.jpg',\n",
       " 'C:\\\\Users\\\\Microsoft-PC\\\\Desktop\\\\LeadingIndia\\\\images\\\\32.jpg',\n",
       " 'C:\\\\Users\\\\Microsoft-PC\\\\Desktop\\\\LeadingIndia\\\\images\\\\33.jpg']"
      ]
     },
     "execution_count": 156,
     "metadata": {},
     "output_type": "execute_result"
    }
   ],
   "source": [
    "no"
   ]
  },
  {
   "cell_type": "code",
   "execution_count": 157,
   "metadata": {},
   "outputs": [
    {
     "name": "stdout",
     "output_type": "stream",
     "text": [
      "C:\\Users\\Microsoft-PC\\Desktop\\LeadingIndia\\downloads\\ as many people from all over the country participate in it\\1. wivivi_panel_breakdown_by_country_for_portuguese.png\n",
      "C:\\Users\\Microsoft-PC\\Desktop\\LeadingIndia\\downloads\\ as many people from all over the country participate in it\\2. cxl7zzc.png\n",
      "C:\\Users\\Microsoft-PC\\Desktop\\LeadingIndia\\downloads\\Latest advancement of defense technology is displayed on this occasion\\2. largepreview.png\n",
      "C:\\Users\\Microsoft-PC\\Desktop\\LeadingIndia\\downloads\\On the Republic day every year\\1. kolkata-india-26th-jan-2018-kolkata-celebrate-69th-republic-day-every-m18kba.jpg\n",
      "C:\\Users\\Microsoft-PC\\Desktop\\LeadingIndia\\downloads\\On the Republic day every year\\2. republic-day-7591.jpg\n",
      "C:\\Users\\Microsoft-PC\\Desktop\\LeadingIndia\\downloads\\ a parade is conducted by the Indian army\\1. maxresdefault.jpg\n",
      "C:\\Users\\Microsoft-PC\\Desktop\\LeadingIndia\\downloads\\ a parade is conducted by the Indian army\\2. 10-para-marching-contingent-during-army-day-parade-on-15-jan-16.jpg\n",
      "C:\\Users\\Microsoft-PC\\Desktop\\LeadingIndia\\downloads\\ navy\\1. login-bg.jpg\n",
      "C:\\Users\\Microsoft-PC\\Desktop\\LeadingIndia\\downloads\\ navy\\2. hero-bonus-enlistment-landing.jpg\n",
      "C:\\Users\\Microsoft-PC\\Desktop\\LeadingIndia\\downloads\\ and soldiers of India at the India Gate\\1. 230px-india_gate_in_new_delhi_03-2016.jpg\n",
      "C:\\Users\\Microsoft-PC\\Desktop\\LeadingIndia\\downloads\\ and soldiers of India at the India Gate\\2. india-gate-600x436-2.jpg\n",
      "C:\\Users\\Microsoft-PC\\Desktop\\LeadingIndia\\downloads\\During the parade\\1. soldiers_during_the_parade.jpg\n",
      "C:\\Users\\Microsoft-PC\\Desktop\\LeadingIndia\\downloads\\During the parade\\2. iran-militaryattack.jpg\n",
      "C:\\Users\\Microsoft-PC\\Desktop\\LeadingIndia\\downloads\\ one can appreciate the diverse cultural heritage of India\\1. cultural-heritage-its-importance-1-638.jpg\n",
      "C:\\Users\\Microsoft-PC\\Desktop\\LeadingIndia\\downloads\\ one can appreciate the diverse cultural heritage of India\\2. 2_cultural_diversity_in_the_workplace_definition_trends_and_examples_113446.jpg\n",
      "C:\\Users\\Microsoft-PC\\Desktop\\LeadingIndia\\downloads\\A perpetual flame is lit at the bottom\\1. door-to-hell.jpg\n",
      "C:\\Users\\Microsoft-PC\\Desktop\\LeadingIndia\\downloads\\A perpetual flame is lit at the bottom\\2. eternal-flame-falls-gallery-01.jpg\n",
      "C:\\Users\\Microsoft-PC\\Desktop\\LeadingIndia\\downloads\\ to pay tribute to the soldiers who gave their life for the nation and remain unknown\\1. tomb-of-the-unkonwn-soldier.jpg\n",
      "C:\\Users\\Microsoft-PC\\Desktop\\LeadingIndia\\downloads\\ to pay tribute to the soldiers who gave their life for the nation and remain unknown\\2. gettyimages-689772658.jpg\n",
      "C:\\Users\\Microsoft-PC\\Desktop\\LeadingIndia\\downloads\\Latest advancement of defense technology is displayed on this occasion\\1. 122235-004-86b1f2bb.jpg\n",
      "C:\\Users\\Microsoft-PC\\Desktop\\LeadingIndia\\downloads\\ and many people are awarded for their bravery towards the nation\\1. bravery19.jpg\n",
      "C:\\Users\\Microsoft-PC\\Desktop\\LeadingIndia\\downloads\\ and many people are awarded for their bravery towards the nation\\2. bravery11.jpg\n",
      "C:\\Users\\Microsoft-PC\\Desktop\\LeadingIndia\\downloads\\It is a lovely picnic place because of the children park\\1. family-picnic-table.jpg\n",
      "C:\\Users\\Microsoft-PC\\Desktop\\LeadingIndia\\downloads\\It is a lovely picnic place because of the children park\\2. clean-safe-easy-great.jpg\n",
      "C:\\Users\\Microsoft-PC\\Desktop\\LeadingIndia\\downloads\\ boat club and the cold breeze of the fountain\\1. page_1.jpg\n",
      "C:\\Users\\Microsoft-PC\\Desktop\\LeadingIndia\\downloads\\The view around India Gate is beautiful\\1. india-gate-memorial-in-delhi-in-india-a-war-memorial-on-rajpath-road-beautiful-view-of-main-indian-historical-landmark-in-the-background-of-the-clou-mdw0dr.jpg\n",
      "C:\\Users\\Microsoft-PC\\Desktop\\LeadingIndia\\downloads\\The view around India Gate is beautiful\\2. picture1.jpg\n",
      "C:\\Users\\Microsoft-PC\\Desktop\\LeadingIndia\\downloads\\ and one can see Rashtrapati Bhawan standing majestically in the vicinity of the India Gate\\1. img-20160911-57d5b8dfddadb.jpg\n",
      "C:\\Users\\Microsoft-PC\\Desktop\\LeadingIndia\\downloads\\ and one can see Rashtrapati Bhawan standing majestically in the vicinity of the India Gate\\2. nearest-metro-station-to-india-gate.jpg\n",
      "C:\\Users\\Microsoft-PC\\Desktop\\LeadingIndia\\downloads\\At the bottom of India Gate\\1. maxresdefault.jpg\n",
      "C:\\Users\\Microsoft-PC\\Desktop\\LeadingIndia\\downloads\\At the bottom of India Gate\\2. image-arch-all-india-war-450w-1103935256.jpg\n",
      "C:\\Users\\Microsoft-PC\\Desktop\\LeadingIndia\\downloads\\ there is another monument known as Amar Jawan Jyoti\\1. 1200px-amar_jawan_jyoti.jpg\n",
      "C:\\Users\\Microsoft-PC\\Desktop\\LeadingIndia\\downloads\\ there is another monument known as Amar Jawan Jyoti\\2. amar-jawan-jyoti-india-gate-all-india-war-memorial-by-sir-edwin-lutyens-dgyf2y.jpg\n",
      "C:\\Users\\Microsoft-PC\\Desktop\\LeadingIndia\\downloads\\ boat club and the cold breeze of the fountain\\2. img_0430.jpeg\n"
     ]
    }
   ],
   "source": [
    "from PIL import Image\n",
    "i=0\n",
    "l=len(flat_list)\n",
    "\n",
    "try:\n",
    "    while i < l:\n",
    "        Image.open(flat_list[i]).convert('RGB')\n",
    "        print(flat_list[i])\n",
    "        i=i+1\n",
    "    \n",
    "except:\n",
    "    pass\n",
    "\n",
    "    "
   ]
  },
  {
   "cell_type": "code",
   "execution_count": 158,
   "metadata": {},
   "outputs": [
    {
     "name": "stdout",
     "output_type": "stream",
     "text": [
      "C:\\Users\\Microsoft-PC\\Desktop\\LeadingIndia\\downloads\\ as many people from all over the country participate in it\\1. wivivi_panel_breakdown_by_country_for_portuguese.png\n",
      "C:\\Users\\Microsoft-PC\\Desktop\\LeadingIndia\\downloads\\ as many people from all over the country participate in it\\2. cxl7zzc.png\n",
      "C:\\Users\\Microsoft-PC\\Desktop\\LeadingIndia\\downloads\\Latest advancement of defense technology is displayed on this occasion\\2. largepreview.png\n",
      "C:\\Users\\Microsoft-PC\\Desktop\\LeadingIndia\\downloads\\On the Republic day every year\\1. kolkata-india-26th-jan-2018-kolkata-celebrate-69th-republic-day-every-m18kba.jpg\n",
      "C:\\Users\\Microsoft-PC\\Desktop\\LeadingIndia\\downloads\\On the Republic day every year\\2. republic-day-7591.jpg\n",
      "C:\\Users\\Microsoft-PC\\Desktop\\LeadingIndia\\downloads\\ a parade is conducted by the Indian army\\1. maxresdefault.jpg\n",
      "C:\\Users\\Microsoft-PC\\Desktop\\LeadingIndia\\downloads\\ a parade is conducted by the Indian army\\2. 10-para-marching-contingent-during-army-day-parade-on-15-jan-16.jpg\n",
      "C:\\Users\\Microsoft-PC\\Desktop\\LeadingIndia\\downloads\\ navy\\1. login-bg.jpg\n",
      "C:\\Users\\Microsoft-PC\\Desktop\\LeadingIndia\\downloads\\ navy\\2. hero-bonus-enlistment-landing.jpg\n",
      "C:\\Users\\Microsoft-PC\\Desktop\\LeadingIndia\\downloads\\ and soldiers of India at the India Gate\\1. 230px-india_gate_in_new_delhi_03-2016.jpg\n",
      "C:\\Users\\Microsoft-PC\\Desktop\\LeadingIndia\\downloads\\ and soldiers of India at the India Gate\\2. india-gate-600x436-2.jpg\n",
      "C:\\Users\\Microsoft-PC\\Desktop\\LeadingIndia\\downloads\\During the parade\\1. soldiers_during_the_parade.jpg\n",
      "C:\\Users\\Microsoft-PC\\Desktop\\LeadingIndia\\downloads\\During the parade\\2. iran-militaryattack.jpg\n",
      "C:\\Users\\Microsoft-PC\\Desktop\\LeadingIndia\\downloads\\ one can appreciate the diverse cultural heritage of India\\1. cultural-heritage-its-importance-1-638.jpg\n",
      "C:\\Users\\Microsoft-PC\\Desktop\\LeadingIndia\\downloads\\ one can appreciate the diverse cultural heritage of India\\2. 2_cultural_diversity_in_the_workplace_definition_trends_and_examples_113446.jpg\n",
      "C:\\Users\\Microsoft-PC\\Desktop\\LeadingIndia\\downloads\\A perpetual flame is lit at the bottom\\1. door-to-hell.jpg\n",
      "C:\\Users\\Microsoft-PC\\Desktop\\LeadingIndia\\downloads\\A perpetual flame is lit at the bottom\\2. eternal-flame-falls-gallery-01.jpg\n",
      "C:\\Users\\Microsoft-PC\\Desktop\\LeadingIndia\\downloads\\ to pay tribute to the soldiers who gave their life for the nation and remain unknown\\1. tomb-of-the-unkonwn-soldier.jpg\n",
      "C:\\Users\\Microsoft-PC\\Desktop\\LeadingIndia\\downloads\\ to pay tribute to the soldiers who gave their life for the nation and remain unknown\\2. gettyimages-689772658.jpg\n",
      "C:\\Users\\Microsoft-PC\\Desktop\\LeadingIndia\\downloads\\Latest advancement of defense technology is displayed on this occasion\\1. 122235-004-86b1f2bb.jpg\n",
      "C:\\Users\\Microsoft-PC\\Desktop\\LeadingIndia\\downloads\\ and many people are awarded for their bravery towards the nation\\1. bravery19.jpg\n",
      "C:\\Users\\Microsoft-PC\\Desktop\\LeadingIndia\\downloads\\ and many people are awarded for their bravery towards the nation\\2. bravery11.jpg\n",
      "C:\\Users\\Microsoft-PC\\Desktop\\LeadingIndia\\downloads\\It is a lovely picnic place because of the children park\\1. family-picnic-table.jpg\n",
      "C:\\Users\\Microsoft-PC\\Desktop\\LeadingIndia\\downloads\\It is a lovely picnic place because of the children park\\2. clean-safe-easy-great.jpg\n",
      "C:\\Users\\Microsoft-PC\\Desktop\\LeadingIndia\\downloads\\ boat club and the cold breeze of the fountain\\1. page_1.jpg\n",
      "C:\\Users\\Microsoft-PC\\Desktop\\LeadingIndia\\downloads\\The view around India Gate is beautiful\\1. india-gate-memorial-in-delhi-in-india-a-war-memorial-on-rajpath-road-beautiful-view-of-main-indian-historical-landmark-in-the-background-of-the-clou-mdw0dr.jpg\n",
      "C:\\Users\\Microsoft-PC\\Desktop\\LeadingIndia\\downloads\\The view around India Gate is beautiful\\2. picture1.jpg\n",
      "C:\\Users\\Microsoft-PC\\Desktop\\LeadingIndia\\downloads\\ and one can see Rashtrapati Bhawan standing majestically in the vicinity of the India Gate\\1. img-20160911-57d5b8dfddadb.jpg\n",
      "C:\\Users\\Microsoft-PC\\Desktop\\LeadingIndia\\downloads\\ and one can see Rashtrapati Bhawan standing majestically in the vicinity of the India Gate\\2. nearest-metro-station-to-india-gate.jpg\n",
      "C:\\Users\\Microsoft-PC\\Desktop\\LeadingIndia\\downloads\\At the bottom of India Gate\\1. maxresdefault.jpg\n",
      "C:\\Users\\Microsoft-PC\\Desktop\\LeadingIndia\\downloads\\At the bottom of India Gate\\2. image-arch-all-india-war-450w-1103935256.jpg\n",
      "C:\\Users\\Microsoft-PC\\Desktop\\LeadingIndia\\downloads\\ there is another monument known as Amar Jawan Jyoti\\1. 1200px-amar_jawan_jyoti.jpg\n",
      "C:\\Users\\Microsoft-PC\\Desktop\\LeadingIndia\\downloads\\ there is another monument known as Amar Jawan Jyoti\\2. amar-jawan-jyoti-india-gate-all-india-war-memorial-by-sir-edwin-lutyens-dgyf2y.jpg\n"
     ]
    }
   ],
   "source": [
    "\n",
    "\n",
    "try:\n",
    "    i=0\n",
    "    while i < l:\n",
    "        Image.open(flat_list[i]).convert('RGB').save(no[i])\n",
    "        print(flat_list[i])\n",
    "\n",
    "        i+=1\n",
    "except:\n",
    "    pass\n"
   ]
  },
  {
   "cell_type": "code",
   "execution_count": 159,
   "metadata": {},
   "outputs": [
    {
     "data": {
      "text/plain": [
       "'\\nCreate a video from a list of images.\\n \\n@param      outvid      output video\\n@param      images      list of images to use in the video\\n@param      fps         frame per second\\n@param      size        size of each frame\\n@param      is_color    color\\n@param      format      see http://www.fourcc.org/codecs.php\\n@return                 see http://opencv-python-tutroals.readthedocs.org/en/latest/py_tutorials/py_gui/py_video_display/py_video_display.html\\n \\nThe function relies on http://opencv-python-tutroals.readthedocs.org/en/latest/.\\nBy default, the video will have the size of the first image.\\nIt will resize every image to this size before adding them to the video.\\n'"
      ]
     },
     "execution_count": 159,
     "metadata": {},
     "output_type": "execute_result"
    }
   ],
   "source": [
    "    \"\"\"\n",
    "    Create a video from a list of images.\n",
    " \n",
    "    @param      outvid      output video\n",
    "    @param      images      list of images to use in the video\n",
    "    @param      fps         frame per second\n",
    "    @param      size        size of each frame\n",
    "    @param      is_color    color\n",
    "    @param      format      see http://www.fourcc.org/codecs.php\n",
    "    @return                 see http://opencv-python-tutroals.readthedocs.org/en/latest/py_tutorials/py_gui/py_video_display/py_video_display.html\n",
    " \n",
    "    The function relies on http://opencv-python-tutroals.readthedocs.org/en/latest/.\n",
    "    By default, the video will have the size of the first image.\n",
    "    It will resize every image to this size before adding them to the video.\n",
    "    \"\"\""
   ]
  },
  {
   "cell_type": "code",
   "execution_count": 160,
   "metadata": {
    "collapsed": true
   },
   "outputs": [],
   "source": [
    "import os\n",
    "def make_video(images, outimg=None, fps=2, size=None,\n",
    "               is_color=True, format=\"XVID\"):\n",
    "\n",
    "    from cv2 import VideoWriter, VideoWriter_fourcc, imread, resize\n",
    "    fourcc = VideoWriter_fourcc(*format)\n",
    "    vid = None\n",
    "    for image in images:\n",
    "        if not os.path.exists(image):\n",
    "            raise FileNotFoundError(image)\n",
    "        img = imread(image)\n",
    "        if vid is None:\n",
    "            if size is None:\n",
    "                size = img.shape[1], img.shape[0]\n",
    "            vid = VideoWriter('video.mp4', fourcc, float(fps), size, is_color)\n",
    "        if size[0] != img.shape[1] and size[1] != img.shape[0]:\n",
    "            img = resize(img, size)\n",
    "        vid.write(img)\n",
    "    vid.release()\n",
    "    return vid"
   ]
  },
  {
   "cell_type": "code",
   "execution_count": 161,
   "metadata": {},
   "outputs": [
    {
     "data": {
      "text/plain": [
       "<VideoWriter 0000011F8F9ABE90>"
      ]
     },
     "execution_count": 161,
     "metadata": {},
     "output_type": "execute_result"
    }
   ],
   "source": [
    "make_video(no, outimg=None, fps=2, size=None,is_color=True, format=\"XVID\")"
   ]
  },
  {
   "cell_type": "code",
   "execution_count": 166,
   "metadata": {
    "collapsed": true
   },
   "outputs": [],
   "source": [
    "import moviepy\n",
    "import moviepy.editor as mp\n"
   ]
  },
  {
   "cell_type": "code",
   "execution_count": 169,
   "metadata": {},
   "outputs": [
    {
     "name": "stdout",
     "output_type": "stream",
     "text": [
      "[MoviePy] >>>> Building video output.mp4\n",
      "[MoviePy] Writing audio in outputTEMP_MPY_wvf_snd.mp3\n"
     ]
    },
    {
     "name": "stderr",
     "output_type": "stream",
     "text": [
      "100%|███████████████████████████| 2376/2376 [00:04<00:00, 571.05it/s]\n"
     ]
    },
    {
     "name": "stdout",
     "output_type": "stream",
     "text": [
      "[MoviePy] Done.\n",
      "[MoviePy] Writing video output.mp4\n"
     ]
    },
    {
     "name": "stderr",
     "output_type": "stream",
     "text": [
      " 97%|███████████████████████████████ | 33/34 [00:00<00:00, 90.39it/s]\n"
     ]
    },
    {
     "name": "stdout",
     "output_type": "stream",
     "text": [
      "[MoviePy] Done.\n",
      "[MoviePy] >>>> Video ready: output.mp4 \n",
      "\n"
     ]
    }
   ],
   "source": [
    "if sound_type == \"neu\":\n",
    "    audio = mp.AudioFileClip(\"neu_sound.mp3\")\n",
    "    video1 = mp.VideoFileClip(\"video.mp4\")\n",
    "    final = mp.concatenate_videoclips([video1]).set_audio(audio)\n",
    "    final.write_videofile(\"output.mp4\")\t"
   ]
  },
  {
   "cell_type": "code",
   "execution_count": 170,
   "metadata": {
    "collapsed": true
   },
   "outputs": [],
   "source": [
    "if sound_type == \"pos\":\n",
    "    audio = mp.AudioFileClip(\"pos_sound.mp3\")\n",
    "    video1 = mp.VideoFileClip(\"v.mp4\")\n",
    "    final = mp.concatenate_videoclips([video1]).set_audio(audio)\n",
    "    final.write_videofile(\"output.mp4\")\t"
   ]
  },
  {
   "cell_type": "code",
   "execution_count": 171,
   "metadata": {
    "collapsed": true
   },
   "outputs": [],
   "source": [
    "if sound_type == \"neg\":\n",
    "    audio = mp.AudioFileClip(\"neg_sound.mp3\")\n",
    "    video1 = mp.VideoFileClip(\"v.mp4\")\n",
    "    final = mp.concatenate_videoclips([video1]).set_audio(audio)\n",
    "    final.write_videofile(\"output.mp4\")\t"
   ]
  },
  {
   "cell_type": "code",
   "execution_count": null,
   "metadata": {
    "collapsed": true
   },
   "outputs": [],
   "source": []
  },
  {
   "cell_type": "code",
   "execution_count": null,
   "metadata": {
    "collapsed": true
   },
   "outputs": [],
   "source": []
  },
  {
   "cell_type": "code",
   "execution_count": null,
   "metadata": {
    "collapsed": true
   },
   "outputs": [],
   "source": []
  },
  {
   "cell_type": "markdown",
   "metadata": {},
   "source": [
    "# Text Input"
   ]
  },
  {
   "cell_type": "code",
   "execution_count": 3,
   "metadata": {},
   "outputs": [
    {
     "name": "stdout",
     "output_type": "stream",
     "text": [
      "Defence Procurement and Industry Development — Some Lessons\n",
      "from Australia\n",
      "\n",
      "Stefan Markowski and Peter Hall*\n",
      "\n",
      "School of Business\n",
      "UNSW at ADFA,\n",
      "\n",
      "Background Notes for Panel IT: Comparative Views on the Economics of Defence Acquisition,\n",
      "Defence Acquisition: Building Canada’s Future Military Forces\n",
      "Donald Gordon Centre, Queen's University at Kingston\n",
      "1-2 December 2003\n",
      "\n",
      "(first draft — not to be cited without the authors’ permission)\n",
      "\n",
      "Few countries have experimented as widely as Australia with different instruments to\n",
      "achieve defence industry policy objectives. The small but quite versatile defence-\n",
      "oriented industry sector to have emerged over the past twenty years has delivered\n",
      "weapons systems ranging from locally assembled and part-manufactured small arms\n",
      "and land vehicles, the (part) assembly of F-18s, to *built-to-(modified)-print’ frigates\n",
      "and minehunters and highly Australianised Collins Class conventional submarines. At\n",
      "least half of the delivered value appears to have been added in country. To a non-\n",
      "economist, all this may appear an unqualified technological and industrial\n",
      "achievement, for which the country’s Australian (defence) Industry Involvement (AII)\n",
      "program should take credit. As economists, we have reservations about the\n",
      "effectiveness of the AII, In this paper, we discuss the use of defence procurement to\n",
      "achieve strategic industry development objectives and broader economic goals. As a\n",
      "foundation we examine the value adding process that delivers national security. And\n",
      "we focus on the Australian experience of defence industry policy to see, in practice,\n",
      "how the relationship between procurement and defence industry objectives has\n",
      "actually worked out.\n",
      "\n",
      " \n",
      "\n",
      "\"Stefan Markowski and Peter Hall are Associate Professor and Professor respectively at the School of\n",
      "Business, The University of New South Wales at the Australian Defence Force Academy, Canberra,\n",
      "ACT 2600. Their interests include economic and management aspects of defence procurement,\n",
      "dustry, technology and R&D. They can be best reached via e-mail: s.markowski@adfa.edu.au or\n",
      "pohall@adfa.edu.au.\n"
     ]
    },
    {
     "data": {
      "text/plain": [
       "0"
      ]
     },
     "execution_count": 3,
     "metadata": {},
     "output_type": "execute_result"
    }
   ],
   "source": [
    "from PIL import Image\n",
    "from pytesseract import image_to_string\n",
    "img=Image.open('img.jpg')\n",
    "import os\n",
    "text=image_to_string(img)\n",
    "print(text)\n",
    "os.system('img.jpg')"
   ]
  },
  {
   "cell_type": "code",
   "execution_count": null,
   "metadata": {
    "collapsed": true
   },
   "outputs": [],
   "source": []
  }
 ],
 "metadata": {
  "kernelspec": {
   "display_name": "Python 3",
   "language": "python",
   "name": "python3"
  },
  "language_info": {
   "codemirror_mode": {
    "name": "ipython",
    "version": 3
   },
   "file_extension": ".py",
   "mimetype": "text/x-python",
   "name": "python",
   "nbconvert_exporter": "python",
   "pygments_lexer": "ipython3",
   "version": "3.6.3"
  }
 },
 "nbformat": 4,
 "nbformat_minor": 2
}
